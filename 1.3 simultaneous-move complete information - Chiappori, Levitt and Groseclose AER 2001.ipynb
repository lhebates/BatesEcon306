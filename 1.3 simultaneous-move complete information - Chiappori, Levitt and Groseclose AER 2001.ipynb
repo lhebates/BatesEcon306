{
 "cells": [
  {
   "cell_type": "markdown",
   "metadata": {},
   "source": [
    "Import necessary packages."
   ]
  },
  {
   "cell_type": "code",
   "execution_count": 1,
   "metadata": {},
   "outputs": [],
   "source": [
    "# import all functions from python labrary: sympy\n",
    "from sympy import *\n",
    "# import python library: matplotlib (for nice plots)\n",
    "import matplotlib\n",
    "import matplotlib.pyplot as plt\n",
    "# set sympy output to print pretty math expressions\n",
    "init_printing()"
   ]
  },
  {
   "cell_type": "markdown",
   "metadata": {},
   "source": [
    "# 1. Setup"
   ]
  },
  {
   "cell_type": "markdown",
   "metadata": {},
   "source": [
    "## payoff matrix"
   ]
  },
  {
   "cell_type": "markdown",
   "metadata": {},
   "source": [
    "We set up a simple payoff matrix below following Chiappori et al.\n",
    "\n",
    "To tell markdown this is a table, we use html script, we must \n",
    "* use pipes `|` to mark the separation between columns\n",
    "* use `---` in each cell on the second row to indicate the row above is the title row\n",
    "* make sure each row has the same number of columns\n",
    "\n",
    "<div style=\"text-align: center;\">\n",
    "\n",
    "|              |       | **Goalie** |       |       |\n",
    "| --------     | ----- | -------- | ----- | ----- |\n",
    "|              |       | left     | center | right |\n",
    "|              | left  | ($P_L$,$-P_L$)    | ($\\pi_L$,$-\\pi_L$) | ($\\pi_L$,$-\\pi_L$) |\n",
    "| **Kicker** | center | ($\\mu$,$-\\mu$)    | (0,0) | ($\\mu$,$-\\mu$) |\n",
    "|              | right | ($\\pi_R$,$-\\pi_R$)    | ($\\pi_R$,$-\\pi_R$) | ($P_R$,$-P_R$) |\n",
    "    \n"
   ]
  },
  {
   "cell_type": "markdown",
   "metadata": {},
   "source": [
    "**Assumptions**\n",
    "* (SC; \"sides and center'') $\\pi_R > P_L$, $\\pi_L > P_R$\n",
    "* (SC'; \"sides and center'') $\\pi_R > \\mu$, $\\pi_L > \\mu$\n",
    "* (NS; \"natural side'') $\\pi_L \\geq \\pi_R$, $P_L \\geq P_R$\n",
    "* (KS; \"kicker's side'') $\\pi_R - P_R \\geq \\pi_L - P_L$"
   ]
  },
  {
   "cell_type": "markdown",
   "metadata": {},
   "source": [
    "# 2. Characterizing the equilibrium"
   ]
  },
  {
   "cell_type": "markdown",
   "metadata": {},
   "source": [
    "## The mixed-strategy N.E."
   ]
  },
  {
   "cell_type": "markdown",
   "metadata": {},
   "source": [
    "Denote kicker (goalie)'s probability of playing left by $k_L$ ($g_L$) and right by $k_R$ ($g_R$) respectively."
   ]
  },
  {
   "cell_type": "markdown",
   "metadata": {},
   "source": [
    "### Characterize payoffs"
   ]
  },
  {
   "cell_type": "markdown",
   "metadata": {},
   "source": [
    "Under these strategies, the *expected* payoffs of each player are\n",
    "\\begin{align}\n",
    "    Ev_k &= \\underbrace{k_L g_L \\cdot P_L}_{(L,L)} + \\underbrace{k_L (1-g_L-g_R) \\cdot \\pi_L}_{(L,C)} + \\underbrace{k_L g_R \\cdot \\pi_L}_{(L,R)} \\\\\n",
    "    &\\qquad + \\underbrace{(1-k_L-k_R) g_L \\cdot \\mu}_{(C,L)} + \\underbrace{(1-k_L-k_R) (1-g_L-g_R) \\cdot 0}_{(C,C)} + \\underbrace{(1-k_L-k_R) g_R \\cdot \\mu}_{(C,R)} \\\\\n",
    "    &\\qquad + \\underbrace{k_R g_L \\cdot \\pi_R}_{(R,L)} + \\underbrace{k_R (1-g_L-g_R) \\cdot \\pi_R}_{(R,C)} + \\underbrace{k_R g_R \\cdot P_R}_{(R,R)} \n",
    "\\end{align}\n",
    "\n",
    "Similarly,\n",
    "\\begin{align}\n",
    "    Ev_g &= -Ev_k\n",
    "\\end{align}"
   ]
  },
  {
   "cell_type": "markdown",
   "metadata": {},
   "source": [
    "### Pure strategy NE"
   ]
  },
  {
   "cell_type": "markdown",
   "metadata": {},
   "source": [
    "Claim: there is no pure-strategy NE in this game."
   ]
  },
  {
   "cell_type": "markdown",
   "metadata": {},
   "source": [
    "(fill in this part yourself)"
   ]
  },
  {
   "cell_type": "markdown",
   "metadata": {},
   "source": [
    "### Derive mixed-strategy best responses"
   ]
  },
  {
   "cell_type": "markdown",
   "metadata": {},
   "source": [
    "We will rely on sympy to help with the algebra."
   ]
  },
  {
   "cell_type": "code",
   "execution_count": 2,
   "metadata": {},
   "outputs": [],
   "source": [
    "# define necessary notations\n",
    "kL, kR, gL, gR, PL, PR, piL, piR, mu = symbols('k_L k_R g_L g_R P_L P_R pi_L pi_R mu', positive=True)"
   ]
  },
  {
   "cell_type": "code",
   "execution_count": 33,
   "metadata": {
    "scrolled": true
   },
   "outputs": [
    {
     "data": {
      "image/png": "[encoded data removed]",
      "text/latex": [
       "$\\displaystyle P_{L} g_{L} k_{L} + P_{R} g_{R} k_{R} + g_{L} k_{R} \\pi_{R} + g_{L} \\mu \\left(- k_{L} - k_{R} + 1\\right) + g_{R} k_{L} \\pi_{L} + g_{R} \\mu \\left(- k_{L} - k_{R} + 1\\right) + k_{L} \\pi_{L} \\left(- g_{L} - g_{R} + 1\\right) + k_{R} \\pi_{R} \\left(- g_{L} - g_{R} + 1\\right)$"
      ],
      "text/plain": [
       "P_L⋅g_L⋅k_L + P_R⋅g_R⋅k_R + g_L⋅k_R⋅π_R + g_L⋅μ⋅(-k_L - k_R + 1) + g_R⋅k_L⋅π_L\n",
       " + g_R⋅μ⋅(-k_L - k_R + 1) + k_L⋅π_L⋅(-g_L - g_R + 1) + k_R⋅π_R⋅(-g_L - g_R + 1\n",
       ")"
      ]
     },
     "execution_count": 33,
     "metadata": {},
     "output_type": "execute_result"
    }
   ],
   "source": [
    "# define expected payoffs\n",
    "vk = kL*gL*PL + kL*(1-gL-gR)*piL + kL*gR*piL + (1-kL-kR)*gL*mu + (1-kL-kR)*(1-gL-gR)*0 + (1-kL-kR)*gR*mu + kR*gL*piR + kR*(1-gL-gR)*piR + kR*gR*PR\n",
    "vg = -vk\n",
    "\n",
    "# show vk\n",
    "vk"
   ]
  },
  {
   "cell_type": "code",
   "execution_count": 35,
   "metadata": {},
   "outputs": [
    {
     "data": {
      "image/png": "[encoded data removed]",
      "text/latex": [
       "$\\displaystyle - P_{L} g_{L} k_{L} - P_{R} g_{R} k_{R} - g_{L} k_{R} \\pi_{R} - g_{L} \\mu \\left(- k_{L} - k_{R} + 1\\right) - g_{R} k_{L} \\pi_{L} - g_{R} \\mu \\left(- k_{L} - k_{R} + 1\\right) - k_{L} \\pi_{L} \\left(- g_{L} - g_{R} + 1\\right) - k_{R} \\pi_{R} \\left(- g_{L} - g_{R} + 1\\right)$"
      ],
      "text/plain": [
       "-P_L⋅g_L⋅k_L - P_R⋅g_R⋅k_R - g_L⋅k_R⋅π_R - g_L⋅μ⋅(-k_L - k_R + 1) - g_R⋅k_L⋅π_\n",
       "L - g_R⋅μ⋅(-k_L - k_R + 1) - k_L⋅π_L⋅(-g_L - g_R + 1) - k_R⋅π_R⋅(-g_L - g_R + \n",
       "1)"
      ]
     },
     "execution_count": 35,
     "metadata": {},
     "output_type": "execute_result"
    }
   ],
   "source": [
    "# show vg\n",
    "vg"
   ]
  },
  {
   "cell_type": "markdown",
   "metadata": {},
   "source": [
    "### Kicker's best responses $\\rightarrow (g_L, g_R)$"
   ]
  },
  {
   "cell_type": "markdown",
   "metadata": {},
   "source": [
    "Kicker's best response is to choose their strategy $(k_L,k_R)$ to maximize the payoff $E v_k$ given their belief of $(g_L,g_R)$. For notational simplicity, we don't use the hat notations here, and also use $(g_L,g_R)$ to denote the kicker's beliefs about goalie'strategies. \n",
    "\n",
    "The maximization problem is therefore\n",
    "$$\\max_{k_L,k_R} E v_k $$"
   ]
  },
  {
   "cell_type": "markdown",
   "metadata": {},
   "source": [
    "The first-order derivative is"
   ]
  },
  {
   "cell_type": "code",
   "execution_count": 20,
   "metadata": {
    "scrolled": false
   },
   "outputs": [
    {
     "data": {
      "image/png": "[encoded data removed]",
      "text/latex": [
       "$\\displaystyle \\left( P_{L} g_{L} - g_{L} \\mu - g_{L} \\pi_{L} - g_{R} \\mu + \\pi_{L}, \\  P_{R} g_{R} - g_{L} \\mu - g_{R} \\mu - g_{R} \\pi_{R} + \\pi_{R}\\right)$"
      ],
      "text/plain": [
       "(P_L⋅g_L - g_L⋅μ - g_L⋅π_L - g_R⋅μ + π_L, P_R⋅g_R - g_L⋅μ - g_R⋅μ - g_R⋅π_R + \n",
       "π_R)"
      ]
     },
     "execution_count": 20,
     "metadata": {},
     "output_type": "execute_result"
    }
   ],
   "source": [
    "# take derivative of vk w.r.t. kL and kR, respectively, and simplify\n",
    "(vk.diff(kL).simplify(), vk.diff(kR).simplify())"
   ]
  },
  {
   "cell_type": "markdown",
   "metadata": {},
   "source": [
    "Note that the derivatives are not functions of $k_L$ and $k_R$, but functions of $g_L$ and $g_R$. \n",
    "\n",
    "There is a mixed-strategy best response in $(k_L, k_R)$ only if both derivatives above are 0, i.e., kicker is indifferent among all responses in $(k_L, k_R)$. \n",
    "\n",
    "Thus we try to find beliefs of $(g_L, g_R)$ such that the above FOCs are zero."
   ]
  },
  {
   "cell_type": "code",
   "execution_count": 21,
   "metadata": {},
   "outputs": [
    {
     "data": {
      "image/png": "[encoded data removed]",
      "text/latex": [
       "$\\displaystyle \\left\\{ g_{L} : \\frac{\\mu \\pi_{R} - \\pi_{L} \\left(- P_{R} + \\mu + \\pi_{R}\\right)}{\\mu^{2} - \\left(- P_{L} + \\mu + \\pi_{L}\\right) \\left(- P_{R} + \\mu + \\pi_{R}\\right)}, \\  g_{R} : \\frac{\\mu \\pi_{L} - \\pi_{R} \\left(- P_{L} + \\mu + \\pi_{L}\\right)}{\\mu^{2} - \\left(- P_{L} + \\mu + \\pi_{L}\\right) \\left(- P_{R} + \\mu + \\pi_{R}\\right)}\\right\\}$"
      ],
      "text/plain": [
       "⎧          μ⋅π_R - π_L⋅(-P_R + μ + π_R)                 μ⋅π_L - π_R⋅(-P_L + μ \n",
       "⎪g_L: ──────────────────────────────────────, g_R: ───────────────────────────\n",
       "⎨      2                                            2                         \n",
       "⎪     μ  - (-P_L + μ + π_L)⋅(-P_R + μ + π_R)       μ  - (-P_L + μ + π_L)⋅(-P_R\n",
       "⎩                                                                             \n",
       "\n",
       "+ π_L)     ⎫\n",
       "───────────⎪\n",
       "           ⎬\n",
       " + μ + π_R)⎪\n",
       "           ⎭"
      ]
     },
     "execution_count": 21,
     "metadata": {},
     "output_type": "execute_result"
    }
   ],
   "source": [
    "# solve for beliefs of (gL, gR) such that kicker's FOCs are zero\n",
    "g_sol = solve((vk.diff(kL).simplify(), vk.diff(kR).simplify()), gL,gR)\n",
    "# show the solution\n",
    "g_sol"
   ]
  },
  {
   "cell_type": "markdown",
   "metadata": {},
   "source": [
    "These are unconstrained solutions. However, by definition of $(g_L, g_R)$, these values are probabilities, thus must be \n",
    "* $g_L \\geq 0, g_R \\geq 0$;\n",
    "* $g_L + g_R \\leq 1$\n",
    "\n",
    "Next, we check these two constraints separately."
   ]
  },
  {
   "cell_type": "markdown",
   "metadata": {},
   "source": [
    "**Claim 1:** values of $g_L, g_R$ are greater than 0. "
   ]
  },
  {
   "cell_type": "markdown",
   "metadata": {},
   "source": [
    "**Proof** \n",
    "\n",
    "To show this claim, we analyze the numerator and denominators separately."
   ]
  },
  {
   "cell_type": "code",
   "execution_count": 22,
   "metadata": {},
   "outputs": [
    {
     "data": {
      "image/png": "[encoded data removed]",
      "text/latex": [
       "$\\displaystyle \\left( \\frac{\\mu \\pi_{R} - \\pi_{L} \\left(- P_{R} + \\mu + \\pi_{R}\\right)}{\\mu^{2} - \\left(- P_{L} + \\mu + \\pi_{L}\\right) \\left(- P_{R} + \\mu + \\pi_{R}\\right)}, \\  \\frac{\\mu \\pi_{L} - \\pi_{R} \\left(- P_{L} + \\mu + \\pi_{L}\\right)}{\\mu^{2} - \\left(- P_{L} + \\mu + \\pi_{L}\\right) \\left(- P_{R} + \\mu + \\pi_{R}\\right)}\\right)$"
      ],
      "text/plain": [
       "⎛     μ⋅π_R - π_L⋅(-P_R + μ + π_R)            μ⋅π_L - π_R⋅(-P_L + μ + π_L)    \n",
       "⎜──────────────────────────────────────, ─────────────────────────────────────\n",
       "⎜ 2                                       2                                   \n",
       "⎝μ  - (-P_L + μ + π_L)⋅(-P_R + μ + π_R)  μ  - (-P_L + μ + π_L)⋅(-P_R + μ + π_R\n",
       "\n",
       " ⎞\n",
       "─⎟\n",
       " ⎟\n",
       ")⎠"
      ]
     },
     "execution_count": 22,
     "metadata": {},
     "output_type": "execute_result"
    }
   ],
   "source": [
    "# extract solution\n",
    "gL_sol = g_sol[gL].simplify()\n",
    "gR_sol = g_sol[gR].simplify()\n",
    "(gL_sol, gR_sol)"
   ]
  },
  {
   "cell_type": "code",
   "execution_count": 24,
   "metadata": {},
   "outputs": [
    {
     "data": {
      "image/png": "[encoded data removed]",
      "text/latex": [
       "$\\displaystyle \\left( \\mu \\pi_{R} - \\pi_{L} \\left(- P_{R} + \\mu + \\pi_{R}\\right), \\  \\mu^{2} - \\left(- P_{L} + \\mu + \\pi_{L}\\right) \\left(- P_{R} + \\mu + \\pi_{R}\\right)\\right)$"
      ],
      "text/plain": [
       "⎛                               2                                    ⎞\n",
       "⎝μ⋅π_R - π_L⋅(-P_R + μ + π_R), μ  - (-P_L + μ + π_L)⋅(-P_R + μ + π_R)⎠"
      ]
     },
     "execution_count": 24,
     "metadata": {},
     "output_type": "execute_result"
    }
   ],
   "source": [
    "# extract numerator and denominator separately\n",
    "n_gL,d_gL =fraction(gL_sol)\n",
    "(n_gL, d_gL)"
   ]
  },
  {
   "cell_type": "markdown",
   "metadata": {},
   "source": [
    "The denominator of $g_L$ is always negative. To see that:\n",
    "\\begin{align}\n",
    "    \\mu^{2} - (- P_{L} + \\mu + \\pi_{L}) (- P_{R} + \\mu + \\pi_{R}) &= \n",
    "        \\mu^{2} - \\underbrace{(\\overbrace{\\pi_{L} - P_{L}}^{>0 \\text{ by def}} + \\mu)) }_{> \\mu} \\underbrace{(\\overbrace{\\pi_{R} - P_{R}}^{>0 \\text{ by def}} + \\mu) }_{> \\mu} < 0\n",
    "\\end{align}\n"
   ]
  },
  {
   "cell_type": "markdown",
   "metadata": {},
   "source": [
    "The numerator of $g_L$ is also always negative. To see that:\n",
    "\\begin{align}\n",
    "    \\mu \\pi_R - \\pi_L(-P_R + \\mu + \\pi_R) &= \n",
    "        \\mu \\pi_R - \\pi_L (\\pi_R - P_R + \\mu) \\\\\n",
    "        &= \\mu \\pi_R - \\mu \\pi_L - \\pi_L (\\pi_R - P_R) \\\\\n",
    "        &= \\mu \\underbrace{(\\pi_R - \\pi_L)}_{<0 \\text{ by Assmp. NS}} - \\pi_L \\underbrace{(\\pi_R - P_R)}_{>0 \\text{ by def}} < 0\n",
    "\\end{align}"
   ]
  },
  {
   "cell_type": "markdown",
   "metadata": {},
   "source": [
    "The denominator of $g_R$ is the same as $g_L$, and is always negative. "
   ]
  },
  {
   "cell_type": "code",
   "execution_count": 25,
   "metadata": {},
   "outputs": [
    {
     "data": {
      "image/png": "[encoded data removed]",
      "text/latex": [
       "$\\displaystyle \\left( \\mu \\pi_{L} - \\pi_{R} \\left(- P_{L} + \\mu + \\pi_{L}\\right), \\  \\mu^{2} - \\left(- P_{L} + \\mu + \\pi_{L}\\right) \\left(- P_{R} + \\mu + \\pi_{R}\\right)\\right)$"
      ],
      "text/plain": [
       "⎛                               2                                    ⎞\n",
       "⎝μ⋅π_L - π_R⋅(-P_L + μ + π_L), μ  - (-P_L + μ + π_L)⋅(-P_R + μ + π_R)⎠"
      ]
     },
     "execution_count": 25,
     "metadata": {},
     "output_type": "execute_result"
    }
   ],
   "source": [
    "# extract numerator and denominator separately\n",
    "n_gR,d_gR =fraction(gR_sol)\n",
    "(n_gR, d_gR)"
   ]
  },
  {
   "cell_type": "markdown",
   "metadata": {},
   "source": [
    "The numerator of $g_R$ is also always negative. To see that:\n",
    "\\begin{align}\n",
    "    \\mu \\pi_L - \\pi_R(-P_L + \\mu + \\pi_L) &= \n",
    "        \\mu \\pi_L - \\pi_R (\\pi_L - P_L + \\mu) \\\\\n",
    "        &= \\mu \\pi_L - \\mu \\pi_R - \\pi_R (\\pi_L - P_L) \\\\\n",
    "        &= \\mu (\\pi_L - \\pi_R) - \\pi_R (\\pi_L - P_L) \\\\\n",
    "        &< \\mu (\\pi_L - \\pi_R) - \\mu (\\pi_L - P_L)  && \\text{by Assump. SC'} \\\\\n",
    "        &= \\mu (P_L - \\pi_R) < 0  && \\text{by Assump. SC} \n",
    "\\end{align}"
   ]
  },
  {
   "cell_type": "markdown",
   "metadata": {},
   "source": [
    "Because the numerator and denominators are both negative, thus $g_L>0$ and $g_R>0$.\n",
    "\n",
    "We have thus proved Claim 1. \n",
    "\n",
    "$\\square$"
   ]
  },
  {
   "cell_type": "markdown",
   "metadata": {},
   "source": [
    "**Claim 2:** $g_L + g_R < 1$ if and only if $\\mu < \\frac{\\pi_L \\pi_R - P_L P_R}{\\pi_L + \\pi_R - P_L - P_R}$; otherwise $g_L + g_R = 1$."
   ]
  },
  {
   "cell_type": "markdown",
   "metadata": {},
   "source": [
    "$g_L + g_R < 1$ if and only if the sum of their numerators is less than their common denominator."
   ]
  },
  {
   "cell_type": "code",
   "execution_count": 27,
   "metadata": {},
   "outputs": [
    {
     "data": {
      "image/png": "[encoded data removed]",
      "text/latex": [
       "$\\displaystyle P_{L} P_{R} - P_{L} \\mu - P_{R} \\mu + \\mu \\pi_{L} + \\mu \\pi_{R} - \\pi_{L} \\pi_{R}$"
      ],
      "text/plain": [
       "P_L⋅P_R - P_L⋅μ - P_R⋅μ + μ⋅π_L + μ⋅π_R - π_L⋅π_R"
      ]
     },
     "execution_count": 27,
     "metadata": {},
     "output_type": "execute_result"
    }
   ],
   "source": [
    "simplify(n_gL + n_gR - d_gL)"
   ]
  },
  {
   "cell_type": "markdown",
   "metadata": {},
   "source": [
    "In other words, $g_L + g_R < 1$ if and only if\n",
    "\\begin{align}\n",
    "    P_L P_R - P_L \\mu - P_R \\mu + \\mu \\pi_L + \\mu \\pi_R - \\pi_L \\pi_R &< 0 \\\\\n",
    "    \\mu (\\pi_L + \\pi_R - P_L - P_R ) &<  \\pi_L \\pi_R - P_L P_R \\\\\n",
    "    \\mu &< \\frac{\\pi_L \\pi_R - P_L P_R}{\\pi_L + \\pi_R - P_L - P_R}\n",
    "\\end{align}"
   ]
  },
  {
   "cell_type": "markdown",
   "metadata": {},
   "source": [
    "Otherwise if $\\mu \\geq \\frac{\\pi_L \\pi_R - P_L P_R}{\\pi_L + \\pi_R - P_L - P_R}$, the $g_L$ and $g_K$ values must be restricted at $g_L + g_K = 1$ by their definition as mixed strategies. \n",
    "\n",
    "We have thus proved claim 2. \n",
    "\n",
    "$\\square$"
   ]
  },
  {
   "cell_type": "markdown",
   "metadata": {},
   "source": [
    "### Goalie's best responses $\\rightarrow (k_L, k_R)$"
   ]
  },
  {
   "cell_type": "markdown",
   "metadata": {},
   "source": [
    "Goelie's best response is to choose their strategy $(g_L,g_R)$ to maximize the payoff $E v_g$ given their belief of $(k_L,k_R)$. For notational simplicity, we don't use the hat notations here, and also use $(k_L,k_R)$ to denote the goalie's beliefs about kicker'strategies. \n",
    "\n",
    "The maximization problem is therefore\n",
    "$$\\max_{g_L,g_R} E v_g $$"
   ]
  },
  {
   "cell_type": "markdown",
   "metadata": {},
   "source": [
    "The first-order derivative is"
   ]
  },
  {
   "cell_type": "code",
   "execution_count": 28,
   "metadata": {
    "scrolled": false
   },
   "outputs": [
    {
     "data": {
      "image/png": "[encoded data removed]",
      "text/latex": [
       "$\\displaystyle \\left( - P_{L} k_{L} + k_{L} \\pi_{L} + \\mu \\left(k_{L} + k_{R} - 1\\right), \\  - P_{R} k_{R} + k_{R} \\pi_{R} + \\mu \\left(k_{L} + k_{R} - 1\\right)\\right)$"
      ],
      "text/plain": [
       "(-P_L⋅k_L + k_L⋅π_L + μ⋅(k_L + k_R - 1), -P_R⋅k_R + k_R⋅π_R + μ⋅(k_L + k_R - 1\n",
       "))"
      ]
     },
     "execution_count": 28,
     "metadata": {},
     "output_type": "execute_result"
    }
   ],
   "source": [
    "# take derivative of vk w.r.t. kL and kR, respectively, and simplify\n",
    "(vg.diff(gL).simplify(), vg.diff(gR).simplify())"
   ]
  },
  {
   "cell_type": "markdown",
   "metadata": {},
   "source": [
    "Similarly, note that the derivatives are not functions of $g_L$ and $g_R$, but functions of $k_L$ and $k_R$. \n",
    "\n",
    "There is a mixed-strategy best response in $(g_L, g_R)$ only if both derivatives above are 0, i.e., goalie is indifferent among all responses in $(g_L, g_R)$. \n",
    "\n",
    "Thus we try to find beliefs of $(k_L, k_R)$ such that the above FOCs are zero."
   ]
  },
  {
   "cell_type": "code",
   "execution_count": 34,
   "metadata": {},
   "outputs": [
    {
     "data": {
      "image/png": "[encoded data removed]",
      "text/latex": [
       "$\\displaystyle \\left\\{ k_{L} : \\frac{\\mu \\left(P_{R} - \\pi_{R}\\right)}{\\mu^{2} - \\left(- P_{L} + \\mu + \\pi_{L}\\right) \\left(- P_{R} + \\mu + \\pi_{R}\\right)}, \\  k_{R} : \\frac{\\mu \\left(P_{L} - \\pi_{L}\\right)}{\\mu^{2} - \\left(- P_{L} + \\mu + \\pi_{L}\\right) \\left(- P_{R} + \\mu + \\pi_{R}\\right)}\\right\\}$"
      ],
      "text/plain": [
       "⎧                 μ⋅(P_R - π_R)                                μ⋅(P_L - π_L)  \n",
       "⎪k_L: ──────────────────────────────────────, k_R: ───────────────────────────\n",
       "⎨      2                                            2                         \n",
       "⎪     μ  - (-P_L + μ + π_L)⋅(-P_R + μ + π_R)       μ  - (-P_L + μ + π_L)⋅(-P_R\n",
       "⎩                                                                             \n",
       "\n",
       "           ⎫\n",
       "───────────⎪\n",
       "           ⎬\n",
       " + μ + π_R)⎪\n",
       "           ⎭"
      ]
     },
     "execution_count": 34,
     "metadata": {},
     "output_type": "execute_result"
    }
   ],
   "source": [
    "# solve for beliefs of (gL, gR) such that kicker's FOCs are zero\n",
    "k_sol = solve((vg.diff(gL).simplify(), vg.diff(gR).simplify()), kL,kR)\n",
    "# show the solution\n",
    "k_sol"
   ]
  },
  {
   "cell_type": "markdown",
   "metadata": {},
   "source": [
    "We can make similarly claims here as Claims 1 and 2 above about the values of $(k_L, k_R)$. \n",
    "\n",
    "**Claim 3:**\n",
    "* both values are greater than 0\n",
    "* $k_L + k_R = 1$! (different from Proposition 1 in paper!!!) "
   ]
  },
  {
   "cell_type": "markdown",
   "metadata": {},
   "source": [
    "**Proof**\n",
    "\n",
    "The first part follows similarly as claim 1. Note that the denominator is the same as before, which is always negative. The numerators here are always negative as well. \n",
    "\n",
    "We check the second part:"
   ]
  },
  {
   "cell_type": "code",
   "execution_count": 32,
   "metadata": {},
   "outputs": [
    {
     "data": {
      "image/png": "[encoded data removed]",
      "text/latex": [
       "$\\displaystyle P_{L} P_{R} - P_{L} \\pi_{R} - P_{R} \\pi_{L} + \\pi_{L} \\pi_{R}$"
      ],
      "text/plain": [
       "P_L⋅P_R - P_L⋅π_R - P_R⋅π_L + π_L⋅π_R"
      ]
     },
     "execution_count": 32,
     "metadata": {},
     "output_type": "execute_result"
    }
   ],
   "source": [
    "# extract numerator and denominator separately\n",
    "n_kL,d_kL =fraction(k_sol[kL])\n",
    "n_kR,d_kR =fraction(k_sol[kR])\n",
    "\n",
    "# calculate the sum of numerators of n_kL,d_kL and subtract their common denominator\n",
    "simplify(n_kL + n_kR - d_kL)"
   ]
  },
  {
   "cell_type": "markdown",
   "metadata": {},
   "source": [
    "The sum of numerators of $(k_L,k_R)$ minus their common denominar is \n",
    "\\begin{align}\n",
    "    P_L P_R - P_L \\pi_R - P_R \\pi_L + \\pi_L \\pi_R &= - P_L(\\pi_R - P_R) + \\pi_L(\\pi_R - P_R) \\\\\n",
    "        &= (\\pi_R - P_R)(\\pi_L - P_L) > 0\n",
    "\\end{align}\n",
    "which implies that $k_L + k_R \\geq 1$, so that the probabilities must always be constrained to $k_L + k_R = 1$, thus goalie never places probability on C!!! \n",
    "\n",
    "This result is different from what's stated in Proposition 1 in the paper. \n",
    "\n",
    "**Q:** Did I make any mistakes?"
   ]
  },
  {
   "cell_type": "markdown",
   "metadata": {},
   "source": []
  },
  {
   "cell_type": "markdown",
   "metadata": {},
   "source": [
    "### Compare to Proposition 1 in paper"
   ]
  },
  {
   "cell_type": "markdown",
   "metadata": {},
   "source": [
    "**Proposition 1** \n",
    "\n",
    "Claims 1 and 2 together verifies Proposition 1 in the paper about kicker's strategy. \n",
    "\n",
    "Claims 3 does not verify Proposition 1 about the goalie's strategy."
   ]
  },
  {
   "cell_type": "markdown",
   "metadata": {},
   "source": [
    "# 3. Analysis"
   ]
  },
  {
   "cell_type": "markdown",
   "metadata": {},
   "source": [
    "### Challenge"
   ]
  },
  {
   "cell_type": "markdown",
   "metadata": {},
   "source": [
    "You can try to explore the properties of the equilibrium by\n",
    "* plotting the mixed strategies as functions of exogenous variables\n",
    "* conduct comparative statics"
   ]
  },
  {
   "cell_type": "code",
   "execution_count": null,
   "metadata": {},
   "outputs": [],
   "source": []
  }
 ],
 "metadata": {
  "kernelspec": {
   "display_name": "Python 3",
   "language": "python",
   "name": "python3"
  },
  "language_info": {
   "codemirror_mode": {
    "name": "ipython",
    "version": 3
   },
   "file_extension": ".py",
   "mimetype": "text/x-python",
   "name": "python",
   "nbconvert_exporter": "python",
   "pygments_lexer": "ipython3",
   "version": "3.7.6"
  }
 },
 "nbformat": 4,
 "nbformat_minor": 2
}

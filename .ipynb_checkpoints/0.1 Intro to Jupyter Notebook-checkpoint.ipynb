{
 "cells": [
  {
   "cell_type": "markdown",
   "metadata": {},
   "source": [
    "Why Jupyter notebook?\n",
    "* type math easily and nicely (markdown and LaTeX)\n",
    "* use python (sympy)\n",
    "* more uses beyond this course (R, other python projects, etc.)\n",
    "\n",
    "You don't need to know any of this. We will learn as we go.\n",
    "\n",
    "A separate video about access.\n",
    "* install on personal computer (all open-source)\n",
    "* use free cloud service (Google colab or mybinder.org)\n",
    "* Bates lab computers\n",
    "\n",
    "Let's look at an example first."
   ]
  },
  {
   "cell_type": "markdown",
   "metadata": {},
   "source": [
    "***"
   ]
  },
  {
   "cell_type": "markdown",
   "metadata": {},
   "source": [
    "Example: what is the derivative of \n",
    "$$ f(x) = x^2 - 4 $$"
   ]
  },
  {
   "cell_type": "markdown",
   "metadata": {},
   "source": [
    "Answer: the derivative is\n",
    "$$\\frac{d f(x)}{d x} = \\frac{d (x^2 - 4)}{d x} = 2x$$"
   ]
  },
  {
   "cell_type": "markdown",
   "metadata": {},
   "source": [
    "we can calculate this derivative using sympy:"
   ]
  },
  {
   "cell_type": "code",
   "execution_count": null,
   "metadata": {},
   "outputs": [],
   "source": [
    "# ask python to load all functions in the sympy package\n",
    "from sympy import *\n",
    "# set sympy output to print pretty math expressions\n",
    "init_printing()"
   ]
  },
  {
   "cell_type": "code",
   "execution_count": null,
   "metadata": {},
   "outputs": [],
   "source": [
    "# if you see error: \"no module sympy\", then run this following line to install it\n",
    "!pip install sympy"
   ]
  },
  {
   "cell_type": "code",
   "execution_count": 1,
   "metadata": {},
   "outputs": [
    {
     "data": {
      "text/latex": [
       "$\\displaystyle 2 x$"
      ],
      "text/plain": [
       "2*x"
      ]
     },
     "execution_count": 1,
     "metadata": {},
     "output_type": "execute_result"
    }
   ],
   "source": [
    "# declare that x is a symbol\n",
    "x = symbols('x')\n",
    "# take derivative of x^2 w.r.t. x\n",
    "diff(x**2 - 4,x)"
   ]
  },
  {
   "cell_type": "markdown",
   "metadata": {},
   "source": [
    "We can also solve equation, for instance, \n",
    "$$  x^2 - 4 = 0 $$"
   ]
  },
  {
   "cell_type": "code",
   "execution_count": 2,
   "metadata": {},
   "outputs": [
    {
     "data": {
      "text/plain": [
       "[-2, 2]"
      ]
     },
     "execution_count": 2,
     "metadata": {},
     "output_type": "execute_result"
    }
   ],
   "source": [
    "solve(x**2 - 4, x)"
   ]
  },
  {
   "cell_type": "markdown",
   "metadata": {},
   "source": [
    "***"
   ]
  },
  {
   "cell_type": "markdown",
   "metadata": {},
   "source": [
    "What we did above wasn't very scary at all. But it involves the blend of 2-3 **programming languages**.\n",
    "\n",
    "What is a programming language? think of it as a machine\n",
    "\n",
    "Each \"machine / programming language\" interprets different \"inputs / codes\" to perform different tasks\n",
    "* microwaves and cars take different inputs, and interpret similar input differently\n",
    "* each programming language take different inputs, and interprets them differently"
   ]
  },
  {
   "cell_type": "markdown",
   "metadata": {},
   "source": [
    "Jupyter notebook blends two major things together\n",
    "* markdown \n",
    "    * type setting language to produce pretty texts (popular for web publishing)\n",
    "    * includes some functionality of LaTeX (type setting language for math)\n",
    "* python (includes many different packages, i.e., toolkits, for different tasks)\n",
    "    * pandas for big data\n",
    "    * sympy for symbolic calculations"
   ]
  },
  {
   "cell_type": "markdown",
   "metadata": {},
   "source": [
    "\n",
    "To known how to interpret different codes, Jupyter notebook is divided by cells, two types of **cells**:\n",
    "* markdown (codes interpreted as text to format)\n",
    "* code (codes interpreted by python)\n",
    "\n",
    "When you **run** each cell, the computer reads and interprets codes in that cell. \n",
    "* markdown is rendered into text\n",
    "* python codes are executed by the python engine, and the outputs are returned"
   ]
  },
  {
   "cell_type": "markdown",
   "metadata": {},
   "source": [
    "The specific rules of each programming language, called syntax, will come over time. "
   ]
  },
  {
   "cell_type": "markdown",
   "metadata": {},
   "source": [
    "***"
   ]
  }
 ],
 "metadata": {
  "kernelspec": {
   "display_name": "Python 3",
   "language": "python",
   "name": "python3"
  },
  "language_info": {
   "codemirror_mode": {
    "name": "ipython",
    "version": 3
   },
   "file_extension": ".py",
   "mimetype": "text/x-python",
   "name": "python",
   "nbconvert_exporter": "python",
   "pygments_lexer": "ipython3",
   "version": "3.7.6"
  }
 },
 "nbformat": 4,
 "nbformat_minor": 4
}

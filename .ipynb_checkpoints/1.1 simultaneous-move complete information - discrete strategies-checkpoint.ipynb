{
 "cells": [
  {
   "cell_type": "markdown",
   "metadata": {},
   "source": [
    "Import necessary packages."
   ]
  },
  {
   "cell_type": "code",
   "execution_count": 28,
   "metadata": {},
   "outputs": [],
   "source": [
    "# import all functions from python labrary: sympy\n",
    "from sympy import *\n",
    "# import python library: matplotlib (for nice plots)\n",
    "import matplotlib\n",
    "import matplotlib.pyplot as plt\n",
    "# set sympy output to print pretty math expressions\n",
    "init_printing()"
   ]
  },
  {
   "cell_type": "markdown",
   "metadata": {},
   "source": [
    "Declare variables we are going to use as 'symbols'. We will add more along the way, if necessary."
   ]
  },
  {
   "cell_type": "code",
   "execution_count": 107,
   "metadata": {},
   "outputs": [],
   "source": [
    "### NOTE: it is important here to further declare these variables to be nonzero and positive (otherwise sympy cannot find solution for the FOCs)\n",
    "q1, q2, c1, c2, a, b, pi1, pi2, q1hat, q2hat = symbols('q1 q2 c1 c2 a b \\pi_1 \\pi_2 \\hat{q}_1 \\hat{q}_2', nonzero=True, positive=True)"
   ]
  },
  {
   "cell_type": "markdown",
   "metadata": {},
   "source": [
    "# 1. Setup---a coordination game with numerical payoffs"
   ]
  },
  {
   "cell_type": "markdown",
   "metadata": {},
   "source": [
    "## payoff matrix"
   ]
  },
  {
   "cell_type": "markdown",
   "metadata": {},
   "source": [
    "We set up a simple payoff matrix below. \n",
    "\n",
    "To tell markdown this is a table, we must \n",
    "* use pipes `|` to mark the separation between columns\n",
    "* use `---` in each cell on the second row to indicate the row above is the title row\n",
    "* make sure each row has the same number of columns\n",
    "\n",
    "|              |       | player 2 |       |\n",
    "| --------     | ----- | -------- | ----- |\n",
    "|              |       | left     | right |\n",
    "| **player 1** | left  | (1,1)    | (0,0) |\n",
    "|              | right | (0,0)    | (2,2) |"
   ]
  },
  {
   "cell_type": "markdown",
   "metadata": {},
   "source": [
    "## The pure-strategy N.E."
   ]
  },
  {
   "cell_type": "markdown",
   "metadata": {},
   "source": [
    "Denote the pure strategy by player 1 and 2 by $a_1$ and $a_2$, respectively.\n",
    "\n",
    "Denote the beliefs about the opponent's play by $\\hat{a}_1$ and $\\hat{a}_2$.\n",
    "\n"
   ]
  },
  {
   "cell_type": "markdown",
   "metadata": {},
   "source": [
    "**Q:** Show that (L,L) or (left, left) is a NE."
   ]
  },
  {
   "cell_type": "markdown",
   "metadata": {},
   "source": [
    "**A:** \n",
    "\n",
    "* Given $\\hat{a}_2 = L$, $a_1=L$ is a best response.\n",
    "* Given the correct belief that $\\hat{a}_1 = L$, $a_2=L$ is a best response.\n",
    "* Lastly, the initial belief that $\\hat{a}_2 = L$ is consistent with player 2's best response $a_2=L$."
   ]
  },
  {
   "cell_type": "markdown",
   "metadata": {},
   "source": [
    "**Q:** Show that (R,R) or (right, right) is a NE."
   ]
  },
  {
   "cell_type": "markdown",
   "metadata": {},
   "source": [
    "**A:** \n",
    "\n",
    "* Given $\\hat{a}_2 = R$, $a_1=R$ is a best response.\n",
    "* Given the correct belief that $\\hat{a}_1 = R$, $a_2=R$ is a best response.\n",
    "* Lastly, the initial belief that $\\hat{a}_2 = R$ is consistent with player 2's best response $a_2=R$."
   ]
  },
  {
   "cell_type": "markdown",
   "metadata": {},
   "source": [
    "## The mixed-strategy N.E."
   ]
  },
  {
   "cell_type": "markdown",
   "metadata": {},
   "source": [
    "Denote player 1 and 2's probability of playing left by $p_1$ and $p_2$ respectively."
   ]
  },
  {
   "cell_type": "markdown",
   "metadata": {},
   "source": [
    "### Characterize payoffs"
   ]
  },
  {
   "cell_type": "markdown",
   "metadata": {},
   "source": [
    "Under these strategies, the *expected* payoffs of each player are\n",
    "\\begin{align}\n",
    "    Ev_1 &= \\underbrace{p_1 p_2 \\cdot 1}_{(L,L)} + \\underbrace{(1-p_1) p_2 \\cdot 0}_{(R,L)} + \\underbrace{p_1 (1-p_2) \\cdot 0}_{(L,R)} + \\underbrace{(1-p_1) (1-p_2) \\cdot 2}_{(R,R)} \\\\\n",
    "                &= p_1 p_2 + 2(1-p_1) (1-p_2)\n",
    "\\end{align}\n",
    "\n",
    "Similarly,\n",
    "\\begin{align}\n",
    "    Ev_2 &= \\underbrace{p_1 p_2 \\cdot 1}_{(L,L)} + \\underbrace{(1-p_1) p_2 \\cdot 0}_{(R,L)} + \\underbrace{p_1 (1-p_2) \\cdot 0}_{(L,R)} + \\underbrace{(1-p_1) (1-p_2) \\cdot 2}_{(R,R)} \\\\\n",
    "                &= p_1 p_2 + 2(1-p_1) (1-p_2)\n",
    "\\end{align}"
   ]
  },
  {
   "cell_type": "markdown",
   "metadata": {},
   "source": [
    "### Derive best responses"
   ]
  },
  {
   "cell_type": "markdown",
   "metadata": {},
   "source": [
    "Player 1's best response is to choose their strategy $p_1$ to maximize the payoff $E v_1$ given their belief of $p_2$, denoted by $\\hat{p}_2$. The maximization problem is therefore\n",
    "$$\\max_{p_1} E v_1 = p_1 p_2 + 2(1-p_1) (1-p_2)$$\n",
    "\n",
    "The first-order derivative is\n",
    "\\begin{align}\n",
    "    \\frac{\\partial E v_1}{\\partial p_1} &= \\hat{p}_2 - 2(1-\\hat{p}_2) \\\\\n",
    "    &= 3\\hat{p}_2 - 2\n",
    "    \\quad\n",
    "    \\begin{cases}\n",
    "        > 0  & { \\text{ if } } \\hat{p}_2 > \\frac{2}{3} \\\\\n",
    "        = 0  & { \\text{ if } } \\hat{p}_2 = \\frac{2}{3} \\\\\n",
    "        < 0  & { \\text{ if } } \\hat{p}_2 < \\frac{2}{3}\n",
    "    \\end{cases}\n",
    "\\end{align}\n",
    "\n",
    "Recall that $p_1$ is a probability, thus $p_1 \\in [0,1]$. Therefore, the best response of $p_1$ is\n",
    "\\begin{align}\n",
    "p_1^*(\\hat{p}_2) = \n",
    "    \\begin{cases}\n",
    "        1  & { \\text{ if } } \\hat{p}_2 > \\frac{2}{3} \\\\\n",
    "        \\in [0,1]  & { \\text{ if } } \\hat{p}_2 = \\frac{2}{3} \\\\\n",
    "        0  & { \\text{ if } } \\hat{p}_2 < \\frac{2}{3}\n",
    "    \\end{cases}\n",
    "\\end{align}"
   ]
  },
  {
   "cell_type": "markdown",
   "metadata": {},
   "source": [
    "Player 2's best response is to choose their strategy $p_2$ to maximize the payoff $E v_2$ given their belief of $p_1$, denoted by $\\hat{p}_1$. The maximization problem is therefore\n",
    "$$\\max_{p_2} E v_2 = p_1 p_2 + 2(1-p_1) (1-p_2)$$\n",
    "\n",
    "The first-order derivative is\n",
    "\\begin{align}\n",
    "    \\frac{\\partial E v_2}{\\partial p_2} &= \\hat{p}_1 - 2(1-\\hat{p}_1) \\\\\n",
    "    &= 3\\hat{p}_1 - 2\n",
    "    \\quad\n",
    "    \\begin{cases}\n",
    "        > 0  & { \\text{ if } } \\hat{p}_1 > \\frac{2}{3} \\\\\n",
    "        = 0  & { \\text{ if } } \\hat{p}_1 = \\frac{2}{3} \\\\\n",
    "        < 0  & { \\text{ if } } \\hat{p}_1 < \\frac{2}{3}\n",
    "    \\end{cases}\n",
    "\\end{align}\n",
    "\n",
    "Recall that $p_2$ is a probability, thus $p_2 \\in [0,1]$. Therefore, the best response of $p_2$ is\n",
    "\\begin{align}\n",
    "p_2^*(\\hat{p}_1) = \n",
    "    \\begin{cases}\n",
    "        1  & { \\text{ if } } \\hat{p}_1 > \\frac{2}{3} \\\\\n",
    "        \\in [0,1]  & { \\text{ if } } \\hat{p}_1 = \\frac{2}{3} \\\\\n",
    "        0  & { \\text{ if } } \\hat{p}_1 < \\frac{2}{3}\n",
    "    \\end{cases}\n",
    "\\end{align}"
   ]
  },
  {
   "cell_type": "markdown",
   "metadata": {},
   "source": [
    "### Plotting best responses"
   ]
  },
  {
   "cell_type": "code",
   "execution_count": 26,
   "metadata": {},
   "outputs": [
    {
     "data": {
      "image/png": "[encoded data removed]",
      "text/plain": [
       "<Figure size 432x288 with 1 Axes>"
      ]
     },
     "metadata": {
      "needs_background": "light"
     },
     "output_type": "display_data"
    }
   ],
   "source": [
    "# p1 as a best response to p2\n",
    "plt.plot([0, 2/3, 2/3, 1],[0, 0, 1, 1 ], color='salmon')\n",
    "plt.xlabel(\"$\\hat{p}_2$\")\n",
    "plt.ylabel(\"$p_1$\")\n",
    "plt.show()"
   ]
  },
  {
   "cell_type": "code",
   "execution_count": 22,
   "metadata": {},
   "outputs": [
    {
     "data": {
      "image/png": "[encoded data removed]",
      "text/plain": [
       "<Figure size 432x288 with 1 Axes>"
      ]
     },
     "metadata": {
      "needs_background": "light"
     },
     "output_type": "display_data"
    }
   ],
   "source": [
    "# p2 as a best response to p1 (inversed)\n",
    "plt.plot([0, 0, 1, 1 ],[0, 2/3, 2/3, 1], color='blue')\n",
    "plt.xlabel(\"$p_2$\")\n",
    "plt.ylabel(\"$\\hat{p}_1$\")\n",
    "plt.show()"
   ]
  },
  {
   "cell_type": "code",
   "execution_count": 23,
   "metadata": {
    "scrolled": true
   },
   "outputs": [
    {
     "data": {
      "image/png": "[encoded data removed]",
      "text/plain": [
       "<Figure size 432x288 with 1 Axes>"
      ]
     },
     "metadata": {
      "needs_background": "light"
     },
     "output_type": "display_data"
    }
   ],
   "source": [
    "# plot intersection of best responses under correct beliefs: $p_1 = \\hat{p}_1$, $p_2 = \\hat{p}_2$\n",
    "plt.plot([0, 2/3, 2/3, 1],[0, 0, 1, 1 ], color='salmon')\n",
    "plt.plot([0, 0, 1, 1 ],[0, 2/3, 2/3, 1], color='blue')\n",
    "plt.xlabel(\"$p_2$\")\n",
    "plt.ylabel(\"$p_1$\")\n",
    "plt.show()"
   ]
  },
  {
   "cell_type": "markdown",
   "metadata": {},
   "source": [
    "From the graph, we can see three NE, two pure-strategy NE\n",
    "* $(p_1=0, p_2=0)$, i.e., (L,L)\n",
    "* $(p_1=1, p_2=1)$, i.e., (R,R)\n",
    "\n",
    "and a mixed-strategy NE\n",
    "* $(p_1=2/3, p_2=2/3)$"
   ]
  },
  {
   "cell_type": "markdown",
   "metadata": {},
   "source": [
    "### Calculating mixed-strategy best responses using sympy"
   ]
  },
  {
   "cell_type": "markdown",
   "metadata": {},
   "source": [
    "Import necessary packages."
   ]
  },
  {
   "cell_type": "code",
   "execution_count": 3,
   "metadata": {},
   "outputs": [],
   "source": [
    "# import all functions from python labrary: sympy\n",
    "from sympy import *"
   ]
  },
  {
   "cell_type": "markdown",
   "metadata": {},
   "source": [
    "Declare variables we are going to use as 'symbols'. We will add more along the way, if necessary."
   ]
  },
  {
   "cell_type": "code",
   "execution_count": 5,
   "metadata": {},
   "outputs": [],
   "source": [
    "### NOTE: it is important here to further declare these variables to be nonzero and positive (otherwise sympy cannot find solution for the FOCs)\n",
    "p1, p2, p1hat, p2hat = symbols('p1 p2 \\hat{p}_1 \\hat{p}_2', positive=True)"
   ]
  },
  {
   "cell_type": "code",
   "execution_count": 40,
   "metadata": {},
   "outputs": [],
   "source": [
    "## define player payoffs in each outcome\n",
    "# payoffs in outcome (L,L)\n",
    "v1LL = 1\n",
    "v2LL = 1\n",
    "# payoffs in outcome (L,R)\n",
    "v1LR = 0\n",
    "v2LR = 0\n",
    "# payoffs in outcome (R,L)\n",
    "v1RL = 0 \n",
    "v2RL = 0\n",
    "# payoffs in outcome (R,R)\n",
    "v1RR = 2\n",
    "v2RR = 2"
   ]
  },
  {
   "cell_type": "code",
   "execution_count": 41,
   "metadata": {},
   "outputs": [
    {
     "data": {
      "image/png": "[encoded data removed]",
      "text/latex": [
       "$\\displaystyle \\left( p_{1} p_{2} + 2 \\left(1 - p_{1}\\right) \\left(1 - p_{2}\\right), \\  p_{1} p_{2} + 2 \\left(1 - p_{1}\\right) \\left(1 - p_{2}\\right)\\right)$"
      ],
      "text/plain": [
       "(p₁⋅p₂ + 2⋅(1 - p₁)⋅(1 - p₂), p₁⋅p₂ + 2⋅(1 - p₁)⋅(1 - p₂))"
      ]
     },
     "execution_count": 41,
     "metadata": {},
     "output_type": "execute_result"
    }
   ],
   "source": [
    "# define player payoffs in sympy (recall p1, p2 are prob. of the players playing L)\n",
    "pi1 = p1*p2*v1LL + (1-p1)*p2*v1RL + p1*(1-p2)*v1LR + (1-p1)*(1-p2)*v1RR\n",
    "pi2 = p1*p2*v2LL + (1-p1)*p2*v2RL + p1*(1-p2)*v2LR + (1-p1)*(1-p2)*v2RR\n",
    "\n",
    "# show defined payoffs pi1 and pi2\n",
    "(pi1,pi2)"
   ]
  },
  {
   "cell_type": "code",
   "execution_count": 42,
   "metadata": {},
   "outputs": [
    {
     "data": {
      "image/png": "[encoded data removed]",
      "text/latex": [
       "$\\displaystyle 3 p_{2} - 2$"
      ],
      "text/plain": [
       "3⋅p₂ - 2"
      ]
     },
     "execution_count": 42,
     "metadata": {},
     "output_type": "execute_result"
    }
   ],
   "source": [
    "# find best responses for p1\n",
    "pi1.diff(p1)"
   ]
  },
  {
   "cell_type": "code",
   "execution_count": 43,
   "metadata": {},
   "outputs": [
    {
     "data": {
      "image/png": "[encoded data removed]",
      "text/latex": [
       "$\\displaystyle \\left[ \\frac{2}{3}\\right]$"
      ],
      "text/plain": [
       "[2/3]"
      ]
     },
     "execution_count": 43,
     "metadata": {},
     "output_type": "execute_result"
    }
   ],
   "source": [
    "# solve for p2 such that all p1 \\in [0,1] is a best response\n",
    "p2_sol = solve(pi1.diff(p1), p2)\n",
    "# show solution\n",
    "p2_sol"
   ]
  },
  {
   "cell_type": "code",
   "execution_count": 44,
   "metadata": {},
   "outputs": [
    {
     "data": {
      "image/png": "[encoded data removed]",
      "text/latex": [
       "$\\displaystyle \\frac{2}{3}$"
      ],
      "text/plain": [
       "2/3"
      ]
     },
     "execution_count": 44,
     "metadata": {},
     "output_type": "execute_result"
    }
   ],
   "source": [
    "# retrieve the solution from the list (1st element in list)\n",
    "p2mix = p2_sol[0]\n",
    "p2mix"
   ]
  },
  {
   "cell_type": "code",
   "execution_count": 45,
   "metadata": {},
   "outputs": [
    {
     "data": {
      "image/png": "[encoded data removed]",
      "text/latex": [
       "$\\displaystyle 3 p_{1} - 2$"
      ],
      "text/plain": [
       "3⋅p₁ - 2"
      ]
     },
     "execution_count": 45,
     "metadata": {},
     "output_type": "execute_result"
    }
   ],
   "source": [
    "# find best responses for p2\n",
    "pi2.diff(p2)"
   ]
  },
  {
   "cell_type": "code",
   "execution_count": 46,
   "metadata": {},
   "outputs": [
    {
     "data": {
      "image/png": "[encoded data removed]",
      "text/latex": [
       "$\\displaystyle \\left[ \\frac{2}{3}\\right]$"
      ],
      "text/plain": [
       "[2/3]"
      ]
     },
     "execution_count": 46,
     "metadata": {},
     "output_type": "execute_result"
    }
   ],
   "source": [
    "# solve for p1 such that all p2 \\in [0,1] is a best response\n",
    "p1_sol = solve(pi2.diff(p2), p1)\n",
    "# show solution\n",
    "p1_sol"
   ]
  },
  {
   "cell_type": "code",
   "execution_count": 47,
   "metadata": {},
   "outputs": [
    {
     "data": {
      "image/png": "[encoded data removed]",
      "text/latex": [
       "$\\displaystyle \\frac{2}{3}$"
      ],
      "text/plain": [
       "2/3"
      ]
     },
     "execution_count": 47,
     "metadata": {},
     "output_type": "execute_result"
    }
   ],
   "source": [
    "# retrieve the solution from the list (1st element in list)\n",
    "p1mix = p1_sol[0]\n",
    "p1mix"
   ]
  },
  {
   "cell_type": "code",
   "execution_count": 48,
   "metadata": {},
   "outputs": [
    {
     "data": {
      "image/png": "[encoded data removed]",
      "text/plain": [
       "<Figure size 432x288 with 1 Axes>"
      ]
     },
     "metadata": {
      "needs_background": "light"
     },
     "output_type": "display_data"
    }
   ],
   "source": [
    "# plot intersection of best responses under correct beliefs: $p_1 = \\hat{p}_1$, $p_2 = \\hat{p}_2$\n",
    "#     note: 1. compare to the previous plot, the indifferent cutoffs can be updated by sympy calculations\n",
    "#           2. this code only applies to coordination games (why?)\n",
    "plt.plot([0, p2mix, p2mix, 1],[0, 0, 1, 1 ], color='salmon')\n",
    "plt.plot([0, 0, 1, 1 ],[0, p1mix, p1mix, 1], color='blue')\n",
    "plt.xlabel(\"$p_2$\")\n",
    "plt.ylabel(\"$p_1$\")\n",
    "plt.show()"
   ]
  },
  {
   "cell_type": "markdown",
   "metadata": {},
   "source": [
    "## Challenge"
   ]
  },
  {
   "cell_type": "markdown",
   "metadata": {},
   "source": [
    "Q1. The above plotting code is limited to coordination games, try modifying it to adapt to battle-of-sexes games."
   ]
  },
  {
   "cell_type": "code",
   "execution_count": null,
   "metadata": {},
   "outputs": [],
   "source": []
  },
  {
   "cell_type": "markdown",
   "metadata": {},
   "source": [
    "Q2. The above plotting code is limited to coordination games, try modifying it to adapt flexibly to battle-of-sexes games and coordination games."
   ]
  },
  {
   "cell_type": "code",
   "execution_count": null,
   "metadata": {},
   "outputs": [],
   "source": []
  },
  {
   "cell_type": "code",
   "execution_count": null,
   "metadata": {},
   "outputs": [],
   "source": []
  }
 ],
 "metadata": {
  "kernelspec": {
   "display_name": "Python 3",
   "language": "python",
   "name": "python3"
  },
  "language_info": {
   "codemirror_mode": {
    "name": "ipython",
    "version": 3
   },
   "file_extension": ".py",
   "mimetype": "text/x-python",
   "name": "python",
   "nbconvert_exporter": "python",
   "pygments_lexer": "ipython3",
   "version": "3.7.6"
  }
 },
 "nbformat": 4,
 "nbformat_minor": 2
}

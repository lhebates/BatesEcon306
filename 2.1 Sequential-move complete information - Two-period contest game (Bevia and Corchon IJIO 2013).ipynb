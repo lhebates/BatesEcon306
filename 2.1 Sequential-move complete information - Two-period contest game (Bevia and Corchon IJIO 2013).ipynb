{
 "cells": [
  {
   "cell_type": "markdown",
   "metadata": {},
   "source": [
    "# Static contest game"
   ]
  },
  {
   "cell_type": "markdown",
   "metadata": {},
   "source": [
    "## Setup"
   ]
  },
  {
   "cell_type": "markdown",
   "metadata": {},
   "source": [
    "### stage game"
   ]
  },
  {
   "cell_type": "markdown",
   "metadata": {},
   "source": [
    "Two players, 1 and 2, move simultaneously by choosing efforts $e_1$ and $e_2$ at linear costs."
   ]
  },
  {
   "cell_type": "markdown",
   "metadata": {},
   "source": [
    "The contest success function, defined as the probability of player 1 winning, is \n",
    "\\begin{align}\n",
    "    p^t &= \\frac{\\alpha^t (e_1^t)^{\\gamma}}{\\alpha^t (e_1^t)^{\\gamma} + (1-\\alpha^t) (e_2^t)^{\\gamma}}\n",
    "\\end{align}\n",
    "Thus the probability of player 2 winning is\n",
    "\\begin{align}\n",
    "    1-p^t &= \\frac{(1-\\alpha^t) (e_2^t)^{\\gamma}}{\\alpha^t (e_1^t)^{\\gamma} + (1-\\alpha^t) (e_2^t)^{\\gamma}}\n",
    "\\end{align}"
   ]
  },
  {
   "cell_type": "markdown",
   "metadata": {},
   "source": [
    "With linear effort cost, the static payoff of player 1 (for each stage game) is\n",
    "\\begin{align}\n",
    "    \\pi_1^t = p^t V - e_1^t,\n",
    "\\end{align}\n",
    "where $V$ is the size of the award.\n",
    "\n",
    "Similarly, player 2's static payoff is\n",
    "\\begin{align}\n",
    "    \\pi_2^t = (1-p^t) V - e_2^t.\n",
    "\\end{align}"
   ]
  },
  {
   "cell_type": "markdown",
   "metadata": {},
   "source": [
    "### dynamics"
   ]
  },
  {
   "cell_type": "markdown",
   "metadata": {},
   "source": [
    "There are two periods, t=1,2.\n",
    "\n",
    "We focus on the special case of linear transition function in the paper. The connection between two periods is the transition function on $\\alpha$ such that\n",
    "\\begin{align}\n",
    "\\alpha^{t=2} &= f(p^{t=1}) \\\\\n",
    "    &= a p^{t=1} + b,\n",
    "\\end{align}\n",
    "where $0 < a \\leq 1$, $a = 1-2b$ and $b > 0$."
   ]
  },
  {
   "cell_type": "markdown",
   "metadata": {},
   "source": [
    "The 2nd period payoffs are, therefore,\n",
    "\\begin{align}\n",
    "    \\pi_1^{t=2} &= p^{t=2} V - e_1^{t=2} \\\\\n",
    "    \\pi_2^{t=2} &= (1-p^{t=2}) V - e_2^{t=2} \n",
    "\\end{align}"
   ]
  },
  {
   "cell_type": "markdown",
   "metadata": {},
   "source": [
    "Players discount future payoff with a discount factor $\\delta$. Thus the total discounted payoffs in period 1 are\n",
    "\\begin{align}\n",
    "    \\Pi_1 &= \\pi_1^{t=1} + \\delta \\pi_1^{t=2} \\tag{1} \\\\\n",
    "    \\Pi_2 &= \\pi_2^{t=1} + \\delta \\pi_2^{t=2}  \n",
    "\\end{align}"
   ]
  },
  {
   "cell_type": "markdown",
   "metadata": {},
   "source": [
    "## Subgame perfect NE"
   ]
  },
  {
   "cell_type": "markdown",
   "metadata": {},
   "source": [
    "### Backward induction: 2nd period game (static NE)"
   ]
  },
  {
   "cell_type": "markdown",
   "metadata": {},
   "source": [
    "In the 2nd period, $\\alpha^{t=2}$ is fixed. Players play this stage game (last round) as a static game. \n",
    "\n",
    "We write down the brief sketch below. For details, see notebook: 1.3 Simultaneous-move complete information - Contest game (preliminary for Bevia and Corchon IJIO 2013)."
   ]
  },
  {
   "cell_type": "markdown",
   "metadata": {},
   "source": [
    "To maximize the static payoff, player 1's problem is\n",
    "\\begin{align}\n",
    "    \\max_{e_1^{t=2}} \\pi_1^{t=2} = p^{t=2} V - e_1^{t=2}\n",
    "\\end{align}\n",
    "which implies the first-order condition\n",
    "\\begin{align}\n",
    "    \\frac{\\partial p^{t=2}}{\\partial e_1^{t=2}} V - 1 = 0 \\qquad \\Leftrightarrow \\qquad \\frac{\\partial p^{t=2}}{\\partial e_1^{t=2}} = \\frac{1}{V}\n",
    "\\end{align}"
   ]
  },
  {
   "cell_type": "markdown",
   "metadata": {},
   "source": [
    "Similarly, to maximize the static payoff, player 2's problem is\n",
    "\\begin{align}\n",
    "    \\max_{e_2^{t=2}} \\pi_2^{t=2} = (1-p^{t=2}) V - e_2^{t=2}\n",
    "\\end{align}\n",
    "which implies the first-order condition\n",
    "\\begin{align}\n",
    "    -\\frac{\\partial p^{t=2}}{\\partial e_2^{t=2}} V - 1 = 0 \\qquad \\Leftrightarrow \\qquad \\frac{\\partial p^{t=2}}{\\partial e_2^{t=2}} = - \\frac{1}{V}\n",
    "\\end{align}"
   ]
  },
  {
   "cell_type": "markdown",
   "metadata": {},
   "source": [
    "Note the similar structure between the two FOCs above. They implies that, in a NE, it must be that\n",
    "\\begin{align}\n",
    "    \\frac{\\partial p^{t=2}}{\\partial e_1^{t=2}} = - \\frac{\\partial p^{t=2}}{\\partial e_2^{t=2}} \\tag{2}\n",
    "\\end{align}"
   ]
  },
  {
   "cell_type": "markdown",
   "metadata": {},
   "source": [
    "### Equilibrium strategy in 2nd stage"
   ]
  },
  {
   "cell_type": "markdown",
   "metadata": {},
   "source": [
    "After solving for the derivatives (see notebook 1.3 on static contest for details), we have \n",
    "\\begin{align} \n",
    "e_2^{t=2*} = e_1^{t=2*}  = \\gamma \\alpha^{t=2} (1-\\alpha^{t=2}) V, \n",
    "\\end{align} \n",
    "which is the static NE of the contest game, also the subgame perfect equilibrium outcome in the 2nd stage subgame."
   ]
  },
  {
   "cell_type": "markdown",
   "metadata": {},
   "source": [
    "### Equilibrium outcome: winning probability in 2nd stage"
   ]
  },
  {
   "cell_type": "markdown",
   "metadata": {},
   "source": [
    "In the equilibrium, the winning probability for player 1 in stage 2 is\n",
    "\\begin{align}\n",
    "p^{t=2*} &= \\alpha^{t=2} \n",
    "\\end{align}\n",
    "\n",
    "Similarly, player 2's winning probability in the equilibrium is $1-\\alpha^{t=2}$."
   ]
  },
  {
   "cell_type": "markdown",
   "metadata": {},
   "source": [
    "### Equilibrium outcome: payoffs in 2nd stage"
   ]
  },
  {
   "cell_type": "markdown",
   "metadata": {},
   "source": [
    "In the equilibrium, the player 1's payoff in 2nd stage is\n",
    "\\begin{align}\n",
    "\\pi_1^{t=2*} &= p^{t=2*} V - e_1^{t=2*} \\\\\n",
    "    &= \\alpha^{t=2} V - \\gamma \\alpha^{t=2} (1-\\alpha^{t=2}) V \\\\\n",
    "    &= \\alpha^{t=2} V \\big( 1-\\gamma (1-\\alpha^{t=2}) \\big)\n",
    "\\end{align}"
   ]
  },
  {
   "cell_type": "markdown",
   "metadata": {},
   "source": [
    "Player 2's equilibrim payoff in 2nd stage is\n",
    "\\begin{align}\n",
    "\\pi_2^{t=2*} &= (1-p^{t=2*}) V - e_2^{t=2*} \\\\\n",
    "    &= (1-\\alpha^{t=2}) V - \\gamma \\alpha^{t=2} (1-\\alpha^{t=2}) V \\\\\n",
    "    &= (1-\\alpha^{t=2}) V \\big( 1- \\gamma \\alpha^{t=2} \\big)\n",
    "\\end{align}"
   ]
  },
  {
   "cell_type": "markdown",
   "metadata": {},
   "source": [
    "### Backward induction: 1st period game"
   ]
  },
  {
   "cell_type": "markdown",
   "metadata": {},
   "source": [
    "In stage 1, players choose their efforts to maximize total expected (discounted) payoffs. "
   ]
  },
  {
   "cell_type": "markdown",
   "metadata": {},
   "source": [
    "Player 1's problem is (expecting 2nd period stage equilibrium outcome, by backward induction)\n",
    "\\begin{align}\n",
    "    \\Pi_1 &= \\pi_1^{t=1} + \\delta \\pi_1^{t=2*} \\\\\n",
    "        &= p^{t=1} V - e_1^{t=1} + \\delta \\alpha^{t=2} V \\big( 1-\\gamma (1-\\alpha^{t=2}) \\big) \\\\\n",
    "        &= p^{t=1} V - e_1^{t=1} + \\delta f(p^{t=1}) V \\Big( 1-\\gamma \\big(1-f(p^{t=1}) \\big) \\Big)\n",
    "\\end{align}"
   ]
  },
  {
   "cell_type": "markdown",
   "metadata": {},
   "source": [
    "which implies the first-order condition\n",
    "\\begin{align}\n",
    "   \\frac{\\partial p^{t=1}}{\\partial e_1^{t=1}} V - 1 + \\delta \\frac{\\partial f(p^{t=1})}{\\partial p^{t=1}} \\frac{\\partial p^{t=1}}{\\partial e_1^{t=1}} V \\big( 1-\\gamma (1-f(p^{t=1})) \\big) + \\delta f(p^{t=1}) V \\gamma \\frac{\\partial f(p^{t=1})}{\\partial p^{t=1}} \\frac{\\partial p^{t=1}}{\\partial e_1^{t=1}}  &= 0 \\\\\n",
    "\\frac{\\partial p^{t=1}}{\\partial e_1^{t=1}} V - 1 + \\delta \\frac{\\partial f(p^{t=1})}{\\partial p^{t=1}} \\frac{\\partial p^{t=1}}{\\partial e_1^{t=1}} V \\big( 1-\\gamma + 2 \\gamma f(p^{t=1}) \\big)  &= 0 \\\\\n",
    "\\frac{\\partial p^{t=1}}{\\partial e_1^{t=1}} + \\delta \\frac{\\partial f(p^{t=1})}{\\partial p^{t=1}} \\frac{\\partial p^{t=1}}{\\partial e_1^{t=1}} \\big( 1-\\gamma + 2 \\gamma f(p^{t=1}) \\big)  &= \\frac{1}{V} \\\\\n",
    "\\frac{\\partial p^{t=1}}{\\partial e_1^{t=1}} \\underbrace{ \\left[ 1 + \\delta a \\big( 1-\\gamma + 2 \\gamma f(p^{t=1}) \\big) \\right] }_{h_1(x,\\alpha) \\text{ in paper}}  &= \\frac{1}{V} \n",
    "\\end{align}"
   ]
  },
  {
   "cell_type": "markdown",
   "metadata": {},
   "source": [
    "A similar calculation for player 2 yields\n",
    "\\begin{align}\n",
    "- \\frac{\\partial p^{t=1}}{\\partial e_2^{t=1}} \\underbrace{ \\left[ 1 + \\delta a \\big( 1 + \\gamma - 2 \\gamma f(p^{t=1}) \\big) \\right]}_{h_2(x,\\alpha) \\text{ in paper}}   &= \\frac{1}{V} \n",
    "\\end{align}"
   ]
  },
  {
   "cell_type": "markdown",
   "metadata": {},
   "source": [
    "These two FOCs yields a similar identity as in the static game (compare to (2))\n",
    "\\begin{align}\n",
    "        \\frac{\\partial p^{t=1}}{\\partial e_1^{t=1}} h_1  &= - \\frac{\\partial p^{t=1}}{\\partial e_2^{t=1}} h_2  \\tag{3}\n",
    "\\end{align}"
   ]
  },
  {
   "cell_type": "markdown",
   "metadata": {},
   "source": [
    "With the calculated derivatives (see notebook 1.3), we know \n",
    "\\begin{align}\n",
    "    \\frac{\\partial p^t}{\\partial e_1^t} &= \\frac{\\gamma \\alpha^t (e_1^t)^{\\gamma-1} \\big( (1-\\alpha^t) (e_2^t)^{\\gamma} \\big) }{ \\Big( \\alpha^t (e_1^t)^{\\gamma} + (1-\\alpha^t) (e_2^t)^{\\gamma} \\Big)^2 }\n",
    "\\end{align}\n",
    "and \n",
    "\\begin{align}\n",
    "    \\frac{\\partial p^t}{\\partial e_2^t} &= \\frac{ - \\alpha^t (e_1^t)^{\\gamma} \\big( \\gamma (1-\\alpha^t) (e_2^t)^{\\gamma-1} \\big)}{ \\Big( \\alpha^t (e_1^t)^{\\gamma} + (1-\\alpha^t) (e_2^t)^{\\gamma} \\Big)^2 } \n",
    "\\end{align}"
   ]
  },
  {
   "cell_type": "markdown",
   "metadata": {},
   "source": [
    "Plugging these derivatives into (3), we have\n",
    "\\begin{align}\n",
    "        \\frac{\\partial p^{t=1}}{\\partial e_1^{t=1}} h_1  &= - \\frac{\\partial p^{t=1}}{\\partial e_2^{t=1}} h_2  \\\\\n",
    "        \\frac{\\gamma \\alpha^{t=1} (e_1^{t=1})^{\\gamma-1} \\big( (1-\\alpha^{t=1}) (e_2^{t=1})^{\\gamma} \\big) }{ \\Big( \\alpha^{t=1} (e_1^{t=1})^{\\gamma} + (1-\\alpha^{t=1}) (e_2^{t=1})^{\\gamma} \\Big)^2 } h_1 &= \\frac{ - \\alpha^{t=1} (e_1^{t=1})^{\\gamma} \\big( \\gamma (1-\\alpha^{t=1}) (e_2^{t=1})^{\\gamma-1} \\big)}{ \\Big( \\alpha^{t=1} (e_1^{t=1})^{\\gamma} + (1-\\alpha^{t=1}) (e_2^{t=1})^{\\gamma} \\Big)^2 } h_2 \\\\\n",
    "        e_2^{t=1} h_1 &= e_1^{t=1} h_2\n",
    "\\end{align}"
   ]
  },
  {
   "cell_type": "markdown",
   "metadata": {},
   "source": [
    "#### Equilibrium effort ratio"
   ]
  },
  {
   "cell_type": "markdown",
   "metadata": {},
   "source": [
    "Define $x = \\frac{e_1^{t=1}}{e_2^{t=1}}$ as the ratio of t=1 efforts, then we can rewrite \n",
    "\\begin{align}\n",
    "    p^{t=1} &= \\frac{\\alpha^{t=1} (e_1^{t=1})^{\\gamma} }{ \\alpha^{t=1} (e_1^{t=1})^{\\gamma} + (1-\\alpha^{t=1}) (e_2^{t=1})^{\\gamma} } \\\\\n",
    "    &=  \\frac{\\alpha^{t=1} (\\frac{e_1^{t=1}}{e_2^{t=1}})^{\\gamma} }{ \\alpha^{t=1} (\\frac{e_1^{t=1}}{e_2^{t=1}})^{\\gamma} + (1-\\alpha^{t=1}) } \\\\\n",
    "    &=  \\frac{\\alpha^{t=1} x^{\\gamma} }{ \\alpha^{t=1} x^{\\gamma} + (1-\\alpha^{t=1}) }\n",
    "\\end{align}\n",
    "which only depends on the ratio of efforts $x$."
   ]
  },
  {
   "cell_type": "markdown",
   "metadata": {},
   "source": [
    "Plugging in definitions of $h_1, h_2$, we have\n",
    "\\begin{align}\n",
    "        e_2^{t=1} h_1 &= e_1^{t=1} h_2 \\\\\n",
    "        e_2^{t=1} \\underbrace{ \\left[ 1 + \\delta a \\big( 1-\\gamma + 2 \\gamma f(p^{t=1}) \\big) \\right] }_{h_1(x,\\alpha) \\text{ in paper}} &= e_1^{t=1} \\underbrace{ \\left[ 1 + \\delta a \\big( 1 + \\gamma - 2 \\gamma f(p^{t=1}) \\big) \\right]}_{h_2(x,\\alpha) \\text{ in paper}} \\\\\n",
    "         1 + \\delta a \\big( 1-\\gamma + 2 \\gamma f(p^{t=1}) \\big) &= x \\left[  1 + \\delta a \\big( 1 + \\gamma - 2 \\gamma f(p^{t=1}) \\big) \\right]\n",
    "\\end{align}"
   ]
  },
  {
   "cell_type": "markdown",
   "metadata": {},
   "source": [
    "Note that $p^{t=1}$ is a function of $x$, thus $f(p^{t=1})$ is a function of $x$. Therefore, the above equation is a univariable equation of unknown $x$.\n",
    "\n",
    "When $\\gamma = 1$, the above equation is a quadratic equation (although quite messy). \n",
    "\n",
    "We can use sympy to help solve for the exact solution of $x$."
   ]
  },
  {
   "cell_type": "markdown",
   "metadata": {},
   "source": [
    "#### Equilibrium effort levels in t=1"
   ]
  },
  {
   "cell_type": "markdown",
   "metadata": {},
   "source": [
    "Once solved for $x$, we use the fact that (see appendix later for calculation):\n",
    "\\begin{align}\n",
    "    \\frac{\\partial p^{t=1}}{\\partial e_1^{t=1}} &= \\frac{1}{e_1^{t=1}}  \\frac{\\gamma \\alpha^{t=1} x^{\\gamma} (1-\\alpha^{t=1}) }{ \\Big( \\alpha^{t=1} x^{\\gamma} + (1-\\alpha^{t=1}) \\Big)^2 } \n",
    "\\end{align}\n",
    "\n",
    "Plugging into FOC\n",
    "\\begin{align}\n",
    "    \\frac{\\partial p^{t=1}}{\\partial e_1^{t=1}} h_1(x)  &= \\frac{1}{V}  \\\\\n",
    "    \\frac{1}{e_1^{t=1}}  \\frac{\\gamma \\alpha^{t=1} x^{\\gamma} (1-\\alpha^{t=1}) }{ \\Big( \\alpha^{t=1} x^{\\gamma} + (1-\\alpha^{t=1}) \\Big)^2 } h_1(x)  &= \\frac{1}{V} \\\\\n",
    "    e_1^{t=1*} &= \\frac{\\gamma \\alpha^{t=1} x^{\\gamma} (1-\\alpha^{t=1}) }{ \\Big( \\alpha^{t=1} x^{\\gamma} + (1-\\alpha^{t=1}) \\Big)^2 } V h_1(x)\n",
    "\\end{align}"
   ]
  },
  {
   "cell_type": "markdown",
   "metadata": {},
   "source": [
    "## Solving subgame perfect equilibrium NE using sympy"
   ]
  },
  {
   "cell_type": "code",
   "execution_count": null,
   "metadata": {},
   "outputs": [],
   "source": []
  },
  {
   "cell_type": "code",
   "execution_count": 1,
   "metadata": {},
   "outputs": [],
   "source": [
    "# import packages\n",
    "from sympy import *\n",
    "# set sympy output to print pretty math expressions\n",
    "init_printing()"
   ]
  },
  {
   "cell_type": "code",
   "execution_count": 3,
   "metadata": {},
   "outputs": [],
   "source": [
    "# define variables (we use slightly different notation from the paper for the efforts)\n",
    "V, x, alpha, gamma, delta = symbols('V, x, alpha, gamma, delta', positive=True)"
   ]
  },
  {
   "cell_type": "code",
   "execution_count": 4,
   "metadata": {},
   "outputs": [
    {
     "data": {
      "image/png": "[encoded data removed]",
      "text/latex": [
       "$\\displaystyle \\frac{\\alpha x}{\\alpha x^{\\gamma} - \\alpha + 1}$"
      ],
      "text/plain": [
       "    α⋅x     \n",
       "────────────\n",
       "   γ        \n",
       "α⋅x  - α + 1"
      ]
     },
     "execution_count": 4,
     "metadata": {},
     "output_type": "execute_result"
    }
   ],
   "source": [
    "# define p in terms of x; alpha refers to alpha in t=1\n",
    "p = alpha * x / (alpha*x**gamma + 1-alpha)\n",
    "# check the defined CSF\n",
    "p"
   ]
  },
  {
   "cell_type": "code",
   "execution_count": 6,
   "metadata": {
    "scrolled": true
   },
   "outputs": [
    {
     "data": {
      "image/png": "[encoded data removed]",
      "text/latex": [
       "$\\displaystyle \\frac{a \\alpha x}{\\alpha x^{\\gamma} - \\alpha + 1} + b$"
      ],
      "text/plain": [
       "   a⋅α⋅x        \n",
       "──────────── + b\n",
       "   γ            \n",
       "α⋅x  - α + 1    "
      ]
     },
     "execution_count": 6,
     "metadata": {},
     "output_type": "execute_result"
    }
   ],
   "source": [
    "# define additional symbols\n",
    "a, b = symbols('a, b', positive = True)\n",
    "# define transition function f(p)\n",
    "f = a*p + b\n",
    "# check f\n",
    "f"
   ]
  },
  {
   "cell_type": "code",
   "execution_count": 12,
   "metadata": {},
   "outputs": [
    {
     "data": {
      "image/png": "[encoded data removed]",
      "text/latex": [
       "$\\displaystyle a \\delta \\left(\\frac{2 a \\alpha x}{\\alpha x - \\alpha + 1} + 2 b\\right) + 1$"
      ],
      "text/plain": [
       "    ⎛  2⋅a⋅α⋅x        ⎞    \n",
       "a⋅δ⋅⎜─────────── + 2⋅b⎟ + 1\n",
       "    ⎝α⋅x - α + 1      ⎠    "
      ]
     },
     "execution_count": 12,
     "metadata": {},
     "output_type": "execute_result"
    }
   ],
   "source": [
    "# define h1 and h2\n",
    "h1 = 1 + delta * a * (1 - gamma + 2*gamma*f)\n",
    "h2 = 1 + delta * a * (1 + gamma - 2*gamma*f)\n",
    "# check h1\n",
    "h1\n",
    "h1.subs([(gamma, 1)])"
   ]
  },
  {
   "cell_type": "code",
   "execution_count": 17,
   "metadata": {},
   "outputs": [],
   "source": [
    "# solve for NE in t = 1 for special case of gamma = 1\n",
    "t1_sol = solve(Eq(h1.subs([(gamma, 1)]), x*h2.subs([(gamma, 1)]) ), x)"
   ]
  },
  {
   "cell_type": "code",
   "execution_count": 18,
   "metadata": {
    "scrolled": true
   },
   "outputs": [
    {
     "data": {
      "image/png": "[encoded data removed]",
      "text/latex": [
       "$\\displaystyle \\left[ \\frac{- a^{2} \\alpha \\delta - a \\alpha \\delta - a b \\delta + a \\delta - \\alpha - \\frac{\\sqrt{4 a^{4} \\alpha^{2} \\delta^{2} + 16 a^{3} \\alpha^{2} b \\delta^{2} + 8 a^{3} \\alpha^{2} \\delta^{2} - 8 a^{3} \\alpha b \\delta^{2} - 8 a^{3} \\alpha \\delta^{2} + 16 a^{2} \\alpha^{2} b^{2} \\delta^{2} - 16 a^{2} \\alpha^{2} b \\delta^{2} + 4 a^{2} \\alpha^{2} \\delta^{2} + 16 a^{2} \\alpha^{2} \\delta - 16 a^{2} \\alpha b^{2} \\delta^{2} + 24 a^{2} \\alpha b \\delta^{2} - 8 a^{2} \\alpha \\delta^{2} - 12 a^{2} \\alpha \\delta + 4 a^{2} b^{2} \\delta^{2} - 8 a^{2} b \\delta^{2} + 4 a^{2} \\delta^{2} + 8 a \\alpha b \\delta - 4 a \\alpha \\delta - 4 a b \\delta + 4 a \\delta + 1}}{2} + \\frac{1}{2}}{\\alpha \\left(2 a^{2} \\delta + 2 a b \\delta - 2 a \\delta - 1\\right)}, \\  \\frac{- a^{2} \\alpha \\delta - a \\alpha \\delta - a b \\delta + a \\delta - \\alpha + \\frac{\\sqrt{4 a^{4} \\alpha^{2} \\delta^{2} + 16 a^{3} \\alpha^{2} b \\delta^{2} + 8 a^{3} \\alpha^{2} \\delta^{2} - 8 a^{3} \\alpha b \\delta^{2} - 8 a^{3} \\alpha \\delta^{2} + 16 a^{2} \\alpha^{2} b^{2} \\delta^{2} - 16 a^{2} \\alpha^{2} b \\delta^{2} + 4 a^{2} \\alpha^{2} \\delta^{2} + 16 a^{2} \\alpha^{2} \\delta - 16 a^{2} \\alpha b^{2} \\delta^{2} + 24 a^{2} \\alpha b \\delta^{2} - 8 a^{2} \\alpha \\delta^{2} - 12 a^{2} \\alpha \\delta + 4 a^{2} b^{2} \\delta^{2} - 8 a^{2} b \\delta^{2} + 4 a^{2} \\delta^{2} + 8 a \\alpha b \\delta - 4 a \\alpha \\delta - 4 a b \\delta + 4 a \\delta + 1}}{2} + \\frac{1}{2}}{\\alpha \\left(2 a^{2} \\delta + 2 a b \\delta - 2 a \\delta - 1\\right)}\\right]$"
      ],
      "text/plain": [
       "⎡                                        _____________________________________\n",
       "⎢                                       ╱    4  2  2       3  2    2      3  2\n",
       "⎢   2                                 ╲╱  4⋅a ⋅α ⋅δ  + 16⋅a ⋅α ⋅b⋅δ  + 8⋅a ⋅α \n",
       "⎢- a ⋅α⋅δ - a⋅α⋅δ - a⋅b⋅δ + a⋅δ - α - ────────────────────────────────────────\n",
       "⎢                                                                             \n",
       "⎢─────────────────────────────────────────────────────────────────────────────\n",
       "⎢                                                                             \n",
       "⎣                                                                             \n",
       "\n",
       "______________________________________________________________________________\n",
       "  2      3      2      3    2       2  2  2  2       2  2    2      2  2  2   \n",
       "⋅δ  - 8⋅a ⋅α⋅b⋅δ  - 8⋅a ⋅α⋅δ  + 16⋅a ⋅α ⋅b ⋅δ  - 16⋅a ⋅α ⋅b⋅δ  + 4⋅a ⋅α ⋅δ  + \n",
       "──────────────────────────────────────────────────────────────────────────────\n",
       "                                                                              \n",
       "──────────────────────────────────────────────────────────────────────────────\n",
       "                                                             ⎛   2            \n",
       "                                                           α⋅⎝2⋅a ⋅δ + 2⋅a⋅b⋅δ\n",
       "\n",
       "______________________________________________________________________________\n",
       "    2  2         2    2  2       2      2      2    2       2          2  2  2\n",
       "16⋅a ⋅α ⋅δ - 16⋅a ⋅α⋅b ⋅δ  + 24⋅a ⋅α⋅b⋅δ  - 8⋅a ⋅α⋅δ  - 12⋅a ⋅α⋅δ + 4⋅a ⋅b ⋅δ \n",
       "──────────────────────────────────────────────────────────────────────────────\n",
       "             2                                                                \n",
       "──────────────────────────────────────────────────────────────────────────────\n",
       "            ⎞                                                                 \n",
       " - 2⋅a⋅δ - 1⎠                                                                 \n",
       "\n",
       "___________________________________________________________________           \n",
       "      2    2      2  2                                                        \n",
       " - 8⋅a ⋅b⋅δ  + 4⋅a ⋅δ  + 8⋅a⋅α⋅b⋅δ - 4⋅a⋅α⋅δ - 4⋅a⋅b⋅δ + 4⋅a⋅δ + 1    1     2 \n",
       "─────────────────────────────────────────────────────────────────── + ─  - a ⋅\n",
       "                                                                      2       \n",
       "───────────────────────────────────────────────────────────────────────, ─────\n",
       "                                                                              \n",
       "                                                                              \n",
       "\n",
       "                                   ___________________________________________\n",
       "                                  ╱    4  2  2       3  2    2      3  2  2   \n",
       "                                ╲╱  4⋅a ⋅α ⋅δ  + 16⋅a ⋅α ⋅b⋅δ  + 8⋅a ⋅α ⋅δ  - \n",
       "α⋅δ - a⋅α⋅δ - a⋅b⋅δ + a⋅δ - α + ──────────────────────────────────────────────\n",
       "                                                                              \n",
       "──────────────────────────────────────────────────────────────────────────────\n",
       "                                                                              \n",
       "                                                                              \n",
       "\n",
       "______________________________________________________________________________\n",
       "   3      2      3    2       2  2  2  2       2  2    2      2  2  2       2 \n",
       "8⋅a ⋅α⋅b⋅δ  - 8⋅a ⋅α⋅δ  + 16⋅a ⋅α ⋅b ⋅δ  - 16⋅a ⋅α ⋅b⋅δ  + 4⋅a ⋅α ⋅δ  + 16⋅a ⋅\n",
       "──────────────────────────────────────────────────────────────────────────────\n",
       "                                                                              \n",
       "──────────────────────────────────────────────────────────────────────────────\n",
       "                                                       ⎛   2                  \n",
       "                                                     α⋅⎝2⋅a ⋅δ + 2⋅a⋅b⋅δ - 2⋅a\n",
       "\n",
       "______________________________________________________________________________\n",
       " 2         2    2  2       2      2      2    2       2          2  2  2      \n",
       "α ⋅δ - 16⋅a ⋅α⋅b ⋅δ  + 24⋅a ⋅α⋅b⋅δ  - 8⋅a ⋅α⋅δ  - 12⋅a ⋅α⋅δ + 4⋅a ⋅b ⋅δ  - 8⋅a\n",
       "──────────────────────────────────────────────────────────────────────────────\n",
       "       2                                                                      \n",
       "──────────────────────────────────────────────────────────────────────────────\n",
       "      ⎞                                                                       \n",
       "⋅δ - 1⎠                                                                       \n",
       "\n",
       "_____________________________________________________________    ⎤\n",
       "2    2      2  2                                                 ⎥\n",
       " ⋅b⋅δ  + 4⋅a ⋅δ  + 8⋅a⋅α⋅b⋅δ - 4⋅a⋅α⋅δ - 4⋅a⋅b⋅δ + 4⋅a⋅δ + 1    1⎥\n",
       "───────────────────────────────────────────────────────────── + ─⎥\n",
       "                                                                2⎥\n",
       "─────────────────────────────────────────────────────────────────⎥\n",
       "                                                                 ⎥\n",
       "                                                                 ⎦"
      ]
     },
     "execution_count": 18,
     "metadata": {},
     "output_type": "execute_result"
    }
   ],
   "source": [
    "# check solution\n",
    "t1_sol"
   ]
  },
  {
   "cell_type": "code",
   "execution_count": 26,
   "metadata": {},
   "outputs": [
    {
     "data": {
      "image/png": "[encoded data removed]",
      "text/latex": [
       "$\\displaystyle 1.0$"
      ],
      "text/plain": [
       "1.00000000000000"
      ]
     },
     "execution_count": 26,
     "metadata": {},
     "output_type": "execute_result"
    }
   ],
   "source": [
    "# check which solution is positive\n",
    "t1_sol[0].subs([(b, (1-a)/2), (a,1), (delta,1), (alpha, 1/2)])"
   ]
  },
  {
   "cell_type": "code",
   "execution_count": 27,
   "metadata": {
    "scrolled": true
   },
   "outputs": [
    {
     "data": {
      "image/png": "[encoded data removed]",
      "text/latex": [
       "$\\displaystyle -1.0$"
      ],
      "text/plain": [
       "-1.00000000000000"
      ]
     },
     "execution_count": 27,
     "metadata": {},
     "output_type": "execute_result"
    }
   ],
   "source": [
    "# check which solution is positive\n",
    "t1_sol[1].subs([(b, (1-a)/2), (a,1), (delta,1), (alpha, 1/2)])"
   ]
  },
  {
   "cell_type": "code",
   "execution_count": 29,
   "metadata": {},
   "outputs": [
    {
     "data": {
      "image/png": "[encoded data removed]",
      "text/latex": [
       "$\\displaystyle \\frac{- a^{2} \\alpha \\delta - a \\alpha \\delta - a b \\delta + a \\delta - \\alpha - \\frac{\\sqrt{4 a^{4} \\alpha^{2} \\delta^{2} + 16 a^{3} \\alpha^{2} b \\delta^{2} + 8 a^{3} \\alpha^{2} \\delta^{2} - 8 a^{3} \\alpha b \\delta^{2} - 8 a^{3} \\alpha \\delta^{2} + 16 a^{2} \\alpha^{2} b^{2} \\delta^{2} - 16 a^{2} \\alpha^{2} b \\delta^{2} + 4 a^{2} \\alpha^{2} \\delta^{2} + 16 a^{2} \\alpha^{2} \\delta - 16 a^{2} \\alpha b^{2} \\delta^{2} + 24 a^{2} \\alpha b \\delta^{2} - 8 a^{2} \\alpha \\delta^{2} - 12 a^{2} \\alpha \\delta + 4 a^{2} b^{2} \\delta^{2} - 8 a^{2} b \\delta^{2} + 4 a^{2} \\delta^{2} + 8 a \\alpha b \\delta - 4 a \\alpha \\delta - 4 a b \\delta + 4 a \\delta + 1}}{2} + \\frac{1}{2}}{\\alpha \\left(2 a^{2} \\delta + 2 a b \\delta - 2 a \\delta - 1\\right)}$"
      ],
      "text/plain": [
       "                                        ______________________________________\n",
       "                                       ╱    4  2  2       3  2    2      3  2 \n",
       "   2                                 ╲╱  4⋅a ⋅α ⋅δ  + 16⋅a ⋅α ⋅b⋅δ  + 8⋅a ⋅α ⋅\n",
       "- a ⋅α⋅δ - a⋅α⋅δ - a⋅b⋅δ + a⋅δ - α - ─────────────────────────────────────────\n",
       "                                                                              \n",
       "──────────────────────────────────────────────────────────────────────────────\n",
       "                                                                              \n",
       "                                                                              \n",
       "\n",
       "______________________________________________________________________________\n",
       " 2      3      2      3    2       2  2  2  2       2  2    2      2  2  2    \n",
       "δ  - 8⋅a ⋅α⋅b⋅δ  - 8⋅a ⋅α⋅δ  + 16⋅a ⋅α ⋅b ⋅δ  - 16⋅a ⋅α ⋅b⋅δ  + 4⋅a ⋅α ⋅δ  + 1\n",
       "──────────────────────────────────────────────────────────────────────────────\n",
       "                                                                              \n",
       "──────────────────────────────────────────────────────────────────────────────\n",
       "                                                            ⎛   2             \n",
       "                                                          α⋅⎝2⋅a ⋅δ + 2⋅a⋅b⋅δ \n",
       "\n",
       "______________________________________________________________________________\n",
       "   2  2         2    2  2       2      2      2    2       2          2  2  2 \n",
       "6⋅a ⋅α ⋅δ - 16⋅a ⋅α⋅b ⋅δ  + 24⋅a ⋅α⋅b⋅δ  - 8⋅a ⋅α⋅δ  - 12⋅a ⋅α⋅δ + 4⋅a ⋅b ⋅δ  \n",
       "──────────────────────────────────────────────────────────────────────────────\n",
       "            2                                                                 \n",
       "──────────────────────────────────────────────────────────────────────────────\n",
       "           ⎞                                                                  \n",
       "- 2⋅a⋅δ - 1⎠                                                                  \n",
       "\n",
       "__________________________________________________________________    \n",
       "     2    2      2  2                                                 \n",
       "- 8⋅a ⋅b⋅δ  + 4⋅a ⋅δ  + 8⋅a⋅α⋅b⋅δ - 4⋅a⋅α⋅δ - 4⋅a⋅b⋅δ + 4⋅a⋅δ + 1    1\n",
       "────────────────────────────────────────────────────────────────── + ─\n",
       "                                                                     2\n",
       "──────────────────────────────────────────────────────────────────────\n",
       "                                                                      \n",
       "                                                                      "
      ]
     },
     "execution_count": 29,
     "metadata": {},
     "output_type": "execute_result"
    }
   ],
   "source": [
    "# take the first solution (positive) for x\n",
    "x_sol = t1_sol[0]\n",
    "# check solution for x\n",
    "x_sol"
   ]
  },
  {
   "cell_type": "code",
   "execution_count": 42,
   "metadata": {},
   "outputs": [
    {
     "data": {
      "image/png": "[encoded data removed]",
      "text/latex": [
       "$\\displaystyle a \\delta \\left(2 \\gamma \\left(\\frac{a \\left(- a^{2} \\alpha \\delta - a \\alpha \\delta - a b \\delta + a \\delta - \\alpha - \\frac{\\sqrt{4 a^{4} \\alpha^{2} \\delta^{2} + 16 a^{3} \\alpha^{2} b \\delta^{2} + 8 a^{3} \\alpha^{2} \\delta^{2} - 8 a^{3} \\alpha b \\delta^{2} - 8 a^{3} \\alpha \\delta^{2} + 16 a^{2} \\alpha^{2} b^{2} \\delta^{2} - 16 a^{2} \\alpha^{2} b \\delta^{2} + 4 a^{2} \\alpha^{2} \\delta^{2} + 16 a^{2} \\alpha^{2} \\delta - 16 a^{2} \\alpha b^{2} \\delta^{2} + 24 a^{2} \\alpha b \\delta^{2} - 8 a^{2} \\alpha \\delta^{2} - 12 a^{2} \\alpha \\delta + 4 a^{2} b^{2} \\delta^{2} - 8 a^{2} b \\delta^{2} + 4 a^{2} \\delta^{2} + 8 a \\alpha b \\delta - 4 a \\alpha \\delta - 4 a b \\delta + 4 a \\delta + 1}}{2} + \\frac{1}{2}\\right)}{\\left(\\alpha \\left(\\frac{- a^{2} \\alpha \\delta - a \\alpha \\delta - a b \\delta + a \\delta - \\alpha - \\frac{\\sqrt{4 a^{4} \\alpha^{2} \\delta^{2} + 16 a^{3} \\alpha^{2} b \\delta^{2} + 8 a^{3} \\alpha^{2} \\delta^{2} - 8 a^{3} \\alpha b \\delta^{2} - 8 a^{3} \\alpha \\delta^{2} + 16 a^{2} \\alpha^{2} b^{2} \\delta^{2} - 16 a^{2} \\alpha^{2} b \\delta^{2} + 4 a^{2} \\alpha^{2} \\delta^{2} + 16 a^{2} \\alpha^{2} \\delta - 16 a^{2} \\alpha b^{2} \\delta^{2} + 24 a^{2} \\alpha b \\delta^{2} - 8 a^{2} \\alpha \\delta^{2} - 12 a^{2} \\alpha \\delta + 4 a^{2} b^{2} \\delta^{2} - 8 a^{2} b \\delta^{2} + 4 a^{2} \\delta^{2} + 8 a \\alpha b \\delta - 4 a \\alpha \\delta - 4 a b \\delta + 4 a \\delta + 1}}{2} + \\frac{1}{2}}{\\alpha \\left(2 a^{2} \\delta + 2 a b \\delta - 2 a \\delta - 1\\right)}\\right)^{\\gamma} - \\alpha + 1\\right) \\left(2 a^{2} \\delta + 2 a b \\delta - 2 a \\delta - 1\\right)} + b\\right) - \\gamma + 1\\right) + 1$"
      ],
      "text/plain": [
       "    ⎛    ⎛                       ⎛                                        ____\n",
       "    ⎜    ⎜                       ⎜                                       ╱    \n",
       "    ⎜    ⎜                       ⎜   2                                 ╲╱  4⋅a\n",
       "    ⎜    ⎜                     a⋅⎜- a ⋅α⋅δ - a⋅α⋅δ - a⋅b⋅δ + a⋅δ - α - ───────\n",
       "    ⎜    ⎜                       ⎝                                            \n",
       "a⋅δ⋅⎜2⋅γ⋅⎜────────────────────────────────────────────────────────────────────\n",
       "    ⎜    ⎜⎛                                                                   \n",
       "    ⎜    ⎜⎜  ⎛                                        ________________________\n",
       "    ⎜    ⎜⎜  ⎜                                       ╱    4  2  2       3  2  \n",
       "    ⎜    ⎜⎜  ⎜   2                                 ╲╱  4⋅a ⋅α ⋅δ  + 16⋅a ⋅α ⋅b\n",
       "    ⎜    ⎜⎜  ⎜- a ⋅α⋅δ - a⋅α⋅δ - a⋅b⋅δ + a⋅δ - α - ───────────────────────────\n",
       "    ⎜    ⎜⎜  ⎜                                                                \n",
       "    ⎜    ⎜⎜α⋅⎜────────────────────────────────────────────────────────────────\n",
       "    ⎜    ⎜⎜  ⎜                                                                \n",
       "    ⎝    ⎝⎝  ⎝                                                                \n",
       "\n",
       "______________________________________________________________________________\n",
       "4  2  2       3  2    2      3  2  2      3      2      3    2       2  2  2  \n",
       " ⋅α ⋅δ  + 16⋅a ⋅α ⋅b⋅δ  + 8⋅a ⋅α ⋅δ  - 8⋅a ⋅α⋅b⋅δ  - 8⋅a ⋅α⋅δ  + 16⋅a ⋅α ⋅b ⋅δ\n",
       "──────────────────────────────────────────────────────────────────────────────\n",
       "                                                                              \n",
       "──────────────────────────────────────────────────────────────────────────────\n",
       "                                                                              \n",
       "______________________________________________________________________________\n",
       "  2      3  2  2      3      2      3    2       2  2  2  2       2  2    2   \n",
       "⋅δ  + 8⋅a ⋅α ⋅δ  - 8⋅a ⋅α⋅b⋅δ  - 8⋅a ⋅α⋅δ  + 16⋅a ⋅α ⋅b ⋅δ  - 16⋅a ⋅α ⋅b⋅δ  + \n",
       "──────────────────────────────────────────────────────────────────────────────\n",
       "                                                                              \n",
       "──────────────────────────────────────────────────────────────────────────────\n",
       "                                                                          ⎛   \n",
       "                                                                        α⋅⎝2⋅a\n",
       "\n",
       "______________________________________________________________________________\n",
       "2       2  2    2      2  2  2       2  2         2    2  2       2      2    \n",
       "  - 16⋅a ⋅α ⋅b⋅δ  + 4⋅a ⋅α ⋅δ  + 16⋅a ⋅α ⋅δ - 16⋅a ⋅α⋅b ⋅δ  + 24⋅a ⋅α⋅b⋅δ  - 8\n",
       "──────────────────────────────────────────────────────────────────────────────\n",
       "                                              2                               \n",
       "──────────────────────────────────────────────────────────────────────────────\n",
       "                                                                              \n",
       "______________________________________________________________________________\n",
       "   2  2  2       2  2         2    2  2       2      2      2    2       2    \n",
       "4⋅a ⋅α ⋅δ  + 16⋅a ⋅α ⋅δ - 16⋅a ⋅α⋅b ⋅δ  + 24⋅a ⋅α⋅b⋅δ  - 8⋅a ⋅α⋅δ  - 12⋅a ⋅α⋅δ\n",
       "──────────────────────────────────────────────────────────────────────────────\n",
       "                          2                                                   \n",
       "──────────────────────────────────────────────────────────────────────────────\n",
       "2                        ⎞                                                    \n",
       " ⋅δ + 2⋅a⋅b⋅δ - 2⋅a⋅δ - 1⎠                                                    \n",
       "\n",
       "______________________________________________________________________________\n",
       "  2    2       2          2  2  2      2    2      2  2                       \n",
       "⋅a ⋅α⋅δ  - 12⋅a ⋅α⋅δ + 4⋅a ⋅b ⋅δ  - 8⋅a ⋅b⋅δ  + 4⋅a ⋅δ  + 8⋅a⋅α⋅b⋅δ - 4⋅a⋅α⋅δ \n",
       "──────────────────────────────────────────────────────────────────────────────\n",
       "                                                                              \n",
       "──────────────────────────────────────────────────────────────────────────────\n",
       "                                                                              \n",
       "______________________________________________________________________________\n",
       "      2  2  2      2    2      2  2                                           \n",
       " + 4⋅a ⋅b ⋅δ  - 8⋅a ⋅b⋅δ  + 4⋅a ⋅δ  + 8⋅a⋅α⋅b⋅δ - 4⋅a⋅α⋅δ - 4⋅a⋅b⋅δ + 4⋅a⋅δ + \n",
       "──────────────────────────────────────────────────────────────────────────────\n",
       "                                                                              \n",
       "──────────────────────────────────────────────────────────────────────────────\n",
       "                                                                              \n",
       "                                                                              \n",
       "\n",
       "______________________    ⎞                         ⎞        ⎞    \n",
       "                          ⎟                         ⎟        ⎟    \n",
       "- 4⋅a⋅b⋅δ + 4⋅a⋅δ + 1    1⎟                         ⎟        ⎟    \n",
       "────────────────────── + ─⎟                         ⎟        ⎟    \n",
       "                         2⎠                         ⎟        ⎟    \n",
       "──────────────────────────────────────────────── + b⎟ - γ + 1⎟ + 1\n",
       "       γ        ⎞                                   ⎟        ⎟    \n",
       "__    ⎞         ⎟                                   ⎟        ⎟    \n",
       "      ⎟         ⎟                                   ⎟        ⎟    \n",
       "1    1⎟         ⎟                                   ⎟        ⎟    \n",
       "── + ─⎟         ⎟                                   ⎟        ⎟    \n",
       "     2⎟         ⎟ ⎛   2                        ⎞    ⎟        ⎟    \n",
       "──────⎟  - α + 1⎟⋅⎝2⋅a ⋅δ + 2⋅a⋅b⋅δ - 2⋅a⋅δ - 1⎠    ⎟        ⎟    \n",
       "      ⎟         ⎟                                   ⎟        ⎟    \n",
       "      ⎠         ⎠                                   ⎠        ⎠    "
      ]
     },
     "execution_count": 42,
     "metadata": {},
     "output_type": "execute_result"
    }
   ],
   "source": [
    "# calculate equilibrium h1\n",
    "h1_sol = h1.subs([(x, x_sol)])\n",
    "h1_sol"
   ]
  },
  {
   "cell_type": "code",
   "execution_count": 45,
   "metadata": {},
   "outputs": [],
   "source": [
    "# calculate equilibrium effort level for e1\n",
    "e1_sol = (alpha * x_sol * (1 - alpha)) / (alpha * x_sol + 1 - alpha)**2 * V * h1_sol\n",
    "# calculate equilibrium effort level for e2\n",
    "e2_sol = (alpha * (1 - alpha)) / (alpha * x_sol + 1 - alpha)**2 * V * h1_sol"
   ]
  },
  {
   "cell_type": "code",
   "execution_count": 46,
   "metadata": {
    "scrolled": true
   },
   "outputs": [
    {
     "data": {
      "image/png": "[encoded data removed]",
      "text/latex": [
       "$\\displaystyle 0.5 V$"
      ],
      "text/plain": [
       "0.5⋅V"
      ]
     },
     "execution_count": 46,
     "metadata": {},
     "output_type": "execute_result"
    }
   ],
   "source": [
    "e1_sol.subs([(gamma, 1), (b, (1-a)/2), (a,1), (delta,1), (alpha, 1/2)])"
   ]
  },
  {
   "cell_type": "code",
   "execution_count": 47,
   "metadata": {},
   "outputs": [
    {
     "data": {
      "image/png": "[encoded data removed]",
      "text/latex": [
       "$\\displaystyle 0.5 V$"
      ],
      "text/plain": [
       "0.5⋅V"
      ]
     },
     "execution_count": 47,
     "metadata": {},
     "output_type": "execute_result"
    }
   ],
   "source": [
    "e2_sol.subs([(gamma, 1), (b, (1-a)/2), (a,1), (delta,1), (alpha, 1/2)])"
   ]
  },
  {
   "cell_type": "code",
   "execution_count": 60,
   "metadata": {},
   "outputs": [
    {
     "data": {
      "image/png": "[encoded data removed]",
      "text/latex": [
       "$\\displaystyle \\frac{10 \\alpha \\left(1 - \\alpha\\right) \\left(- \\frac{2 \\left(- 3 \\alpha - \\frac{\\sqrt{32 \\alpha^{2} - 32 \\alpha + 9}}{2} + \\frac{3}{2}\\right)}{2 \\alpha + \\frac{\\sqrt{32 \\alpha^{2} - 32 \\alpha + 9}}{2} - \\frac{1}{2}} + 1\\right)}{\\left(2 \\alpha + \\frac{\\sqrt{32 \\alpha^{2} - 32 \\alpha + 9}}{2} - \\frac{1}{2}\\right)^{2}}$"
      ],
      "text/plain": [
       "             ⎛    ⎛          __________________    ⎞    ⎞\n",
       "             ⎜    ⎜         ╱     2                ⎟    ⎟\n",
       "             ⎜    ⎜       ╲╱  32⋅α  - 32⋅α + 9    3⎟    ⎟\n",
       "             ⎜  2⋅⎜-3⋅α - ───────────────────── + ─⎟    ⎟\n",
       "             ⎜    ⎝                 2             2⎠    ⎟\n",
       "10⋅α⋅(1 - α)⋅⎜- ──────────────────────────────────── + 1⎟\n",
       "             ⎜             __________________           ⎟\n",
       "             ⎜            ╱     2                       ⎟\n",
       "             ⎜          ╲╱  32⋅α  - 32⋅α + 9    1       ⎟\n",
       "             ⎜    2⋅α + ───────────────────── - ─       ⎟\n",
       "             ⎝                    2             2       ⎠\n",
       "─────────────────────────────────────────────────────────\n",
       "                                             2           \n",
       "            ⎛         __________________    ⎞            \n",
       "            ⎜        ╱     2                ⎟            \n",
       "            ⎜      ╲╱  32⋅α  - 32⋅α + 9    1⎟            \n",
       "            ⎜2⋅α + ───────────────────── - ─⎟            \n",
       "            ⎝                2             2⎠            "
      ]
     },
     "execution_count": 60,
     "metadata": {},
     "output_type": "execute_result"
    }
   ],
   "source": [
    "e1_plot_fun = e1_sol.subs([(gamma, 1), (b, (1-a)/2), (a,1), (delta,1), (V,10)])\n",
    "e1_plot_fun\n",
    "\n",
    "e2_plot_fun = e2_sol.subs([(gamma, 1), (b, (1-a)/2), (a,1), (delta,1), (V,10)])\n",
    "e2_plot_fun\n"
   ]
  },
  {
   "cell_type": "code",
   "execution_count": 59,
   "metadata": {
    "scrolled": true
   },
   "outputs": [
    {
     "data": {
      "image/png": "[encoded data removed]",
      "text/plain": [
       "<Figure size 432x288 with 1 Axes>"
      ]
     },
     "metadata": {
      "needs_background": "light"
     },
     "output_type": "display_data"
    }
   ],
   "source": [
    "# import python library: matplotlib (for nice plots)\n",
    "import matplotlib\n",
    "# plot e1* in t=1 as a function of alpha\n",
    "e1plot = plot(e1_plot_fun, (alpha,0,1), ylim=[0,6], xlabel=\"$alpha$\", ylabel=\"Effort\")"
   ]
  },
  {
   "cell_type": "code",
   "execution_count": 61,
   "metadata": {
    "scrolled": false
   },
   "outputs": [
    {
     "data": {
      "image/png": "[encoded data removed]",
      "text/plain": [
       "<Figure size 432x288 with 1 Axes>"
      ]
     },
     "metadata": {
      "needs_background": "light"
     },
     "output_type": "display_data"
    }
   ],
   "source": [
    "# plot e2* in t=1 as a function of alpha\n",
    "e2plot = plot(e2_plot_fun, (alpha,0,1), ylim=[0,6], xlabel=\"$alpha$\", ylabel=\"Effort\")"
   ]
  },
  {
   "cell_type": "code",
   "execution_count": 62,
   "metadata": {},
   "outputs": [
    {
     "data": {
      "image/png": "[encoded data removed]",
      "text/plain": [
       "<Figure size 432x288 with 1 Axes>"
      ]
     },
     "metadata": {
      "needs_background": "light"
     },
     "output_type": "display_data"
    }
   ],
   "source": [
    "# overlay two graphs by imposing the NE condition that $q1hat = q1$ and $q2hat = q2$\n",
    "\n",
    "# combine curves into one plot\n",
    "Eqplot_combo = e1plot\n",
    "Eqplot_combo.extend(e2plot)\n",
    "\n",
    "# assign colors for each line\n",
    "Eqplot_combo[0].line_color='salmon'\n",
    "Eqplot_combo[1].line_color='orchid'\n",
    "\n",
    "# show plot\n",
    "Eqplot_combo.show()"
   ]
  },
  {
   "cell_type": "markdown",
   "metadata": {},
   "source": [
    "### Appendix: rewriting derivative in terms of $x$"
   ]
  },
  {
   "cell_type": "markdown",
   "metadata": {},
   "source": [
    "Define $x = \\frac{e_1^{t=1}}{e_2^{t=1}}$ as the ratio of t=1 efforts, then we can rewrite \n",
    "\\begin{align}\n",
    "    \\frac{\\partial p^{t=1}}{\\partial e_1^{t=1}} &= \\frac{\\gamma \\alpha^{t=1} (e_1^{t=1})^{\\gamma-1} \\big( (1-\\alpha^{t=1}) (e_2^{t=1})^{\\gamma} \\big) }{ \\Big( \\alpha^{t=1} (e_1^{t=1})^{\\gamma} + (1-\\alpha^{t=1}) (e_2^{t=1})^{\\gamma} \\Big)^2 } \\\\\n",
    "    &= \\frac{1}{e_1^{t=1}}  \\frac{\\gamma \\alpha^{t=1} (e_1^{t=1})^{\\gamma} (1-\\alpha^{t=1}) (e_2^{t=1})^{\\gamma} }{ \\Big( \\alpha^{t=1} (e_1^{t=1})^{\\gamma} + (1-\\alpha^{t=1}) (e_2^{t=1})^{\\gamma} \\Big)^2 } \\\\\n",
    "    &= \\frac{1}{e_1^{t=1}}  \\frac{\\gamma \\alpha^{t=1} (e_1^{t=1})^{\\gamma} (1-\\alpha^{t=1}) (e_2^{t=1})^{\\gamma} }{ \\left( (e_2^{t=1})^{\\gamma} \\right)^2 \\Big( \\alpha^{t=1} (\\frac{e_1^{t=1}}{e_2^{t=1}})^{\\gamma} + (1-\\alpha^{t=1}) \\Big)^2 } \\\\\n",
    "    &= \\frac{1}{e_1^{t=1}}  \\frac{\\gamma \\alpha^{t=1} (\\frac{e_1^{t=1}}{e_2^{t=1}})^{\\gamma} (1-\\alpha^{t=1}) }{ \\Big( \\alpha^{t=1} (\\frac{e_1^{t=1}}{e_2^{t=1}})^{\\gamma} + (1-\\alpha^{t=1}) \\Big)^2 } \\\\\n",
    "    &= \\frac{1}{e_1^{t=1}}  \\frac{\\gamma \\alpha^{t=1} x^{\\gamma} (1-\\alpha^{t=1}) }{ \\Big( \\alpha^{t=1} x^{\\gamma} + (1-\\alpha^{t=1}) \\Big)^2 } \n",
    "\\end{align}"
   ]
  },
  {
   "cell_type": "code",
   "execution_count": null,
   "metadata": {},
   "outputs": [],
   "source": []
  }
 ],
 "metadata": {
  "kernelspec": {
   "display_name": "Python 3",
   "language": "python",
   "name": "python3"
  },
  "language_info": {
   "codemirror_mode": {
    "name": "ipython",
    "version": 3
   },
   "file_extension": ".py",
   "mimetype": "text/x-python",
   "name": "python",
   "nbconvert_exporter": "python",
   "pygments_lexer": "ipython3",
   "version": "3.7.4"
  }
 },
 "nbformat": 4,
 "nbformat_minor": 4
}

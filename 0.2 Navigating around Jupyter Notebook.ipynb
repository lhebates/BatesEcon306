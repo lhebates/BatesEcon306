{
 "cells": [
  {
   "cell_type": "markdown",
   "metadata": {},
   "source": [
    "Now let's try to create an example from scratch, and see how to navigate around Jupyter notebook for our purposes. \n",
    "\n",
    "Let's go through (button, menu, shortcut):\n",
    "* insert a cell (b)\n",
    "* choose cell type (m for markdown, c for code)\n",
    "* run cells (shift + return)\n",
    "* rearrange cells \n",
    "* copy cells (control/command + c)\n",
    "* delete cells (double tap d)\n",
    "* select multiple cells (hold down shift and select)\n",
    "\n",
    "After we are done, we can:\n",
    "* save notebook\n",
    "* change notebook name\n",
    "* download notebook to Jupyter notebook (.ipynb)\n",
    "* download notebook as html (for web publishing)"
   ]
  }
 ],
 "metadata": {
  "kernelspec": {
   "display_name": "Python 3.7.4 64-bit ('anaconda3': virtualenv)",
   "language": "python",
   "name": "python37464bitanaconda3virtualenv4442f6f54c04406894e1eb25c455fa91"
  },
  "language_info": {
   "codemirror_mode": {
    "name": "ipython",
    "version": 3
   },
   "file_extension": ".py",
   "mimetype": "text/x-python",
   "name": "python",
   "nbconvert_exporter": "python",
   "pygments_lexer": "ipython3",
   "version": "3.7.4"
  }
 },
 "nbformat": 4,
 "nbformat_minor": 2
}

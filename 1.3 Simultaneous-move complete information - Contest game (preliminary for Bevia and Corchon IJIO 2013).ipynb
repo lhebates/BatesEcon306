{
 "cells": [
  {
   "cell_type": "markdown",
   "metadata": {},
   "source": [
    "# Static contest game"
   ]
  },
  {
   "cell_type": "markdown",
   "metadata": {},
   "source": [
    "## Setup"
   ]
  },
  {
   "cell_type": "markdown",
   "metadata": {},
   "source": [
    "Two players, 1 and 2, move simultaneously by choosing efforts $e_1$ and $e_2$ at linear costs in an attempt to win a prize. \n",
    "\n",
    "The size of the prize is fixed, and each player either wins the prize or not."
   ]
  },
  {
   "cell_type": "markdown",
   "metadata": {},
   "source": [
    "The contest success function, defined as the probability of player 1 winning, is \n",
    "\\begin{align}\n",
    "    p^t &= \\frac{\\alpha^t (e_1^t)^{\\gamma}}{\\alpha^t (e_1^t)^{\\gamma} + (1-\\alpha^t) (e_2^t)^{\\gamma}}\n",
    "\\end{align}\n",
    "Thus the probability of player 2 winning is\n",
    "\\begin{align}\n",
    "    1-p^t &= \\frac{(1-\\alpha^t) (e_2^t)^{\\gamma}}{\\alpha^t (e_1^t)^{\\gamma} + (1-\\alpha^t) (e_2^t)^{\\gamma}}\n",
    "\\end{align}"
   ]
  },
  {
   "cell_type": "markdown",
   "metadata": {},
   "source": [
    "With linear effort cost, the static (expected) payoff of player 1 (for each stage game) is\n",
    "\\begin{align}\n",
    "    \\pi_1^t = p^t V - e_1^t,\n",
    "\\end{align}\n",
    "where $V$ is the size of the prize.\n",
    "\n",
    "Similarly, player 2's static payoff is\n",
    "\\begin{align}\n",
    "    \\pi_2^t = (1-p^t) V - e_2^t.\n",
    "\\end{align}"
   ]
  },
  {
   "cell_type": "markdown",
   "metadata": {},
   "source": [
    "What is $$p^t = \\frac{\\alpha^t (e_1^t)^{\\gamma}}{\\alpha^t (e_1^t)^{\\gamma} + (1-\\alpha^t) (e_2^t)^{\\gamma}}\n",
    "$$ under these special cases:\n",
    "* $\\gamma = 1$; $e_1^t = e_2^t = 1$; $\\alpha^t = 1/2$\n",
    "* $\\gamma = 1$; $e_1^t = e_2^t = 1$; $\\alpha^t = 1/4$\n",
    "* $\\gamma = 1$; $e_1^t = e_2^t = 1$; $\\alpha^t = 1$\n"
   ]
  },
  {
   "cell_type": "markdown",
   "metadata": {},
   "source": [
    "\n",
    "* $\\gamma = 0$; $e_1^t = e_2^t = 1$; $\\alpha^t = 1/2$"
   ]
  },
  {
   "cell_type": "markdown",
   "metadata": {},
   "source": [
    "* $\\gamma = 1$; $e_1^t = 1$; $e_2^t = 2$; $\\alpha^t = 1/2$"
   ]
  },
  {
   "cell_type": "markdown",
   "metadata": {},
   "source": [
    "$$ 1- p^t = \\frac{(1-\\alpha^t) (e_2^t)^{\\gamma}}{\\alpha^t (e_1^t)^{\\gamma} + (1-\\alpha^t) (e_2^t)^{\\gamma}}\n",
    "$$"
   ]
  },
  {
   "cell_type": "markdown",
   "metadata": {},
   "source": [
    "## Static NE (one-shot game)"
   ]
  },
  {
   "cell_type": "markdown",
   "metadata": {},
   "source": [
    "To maximize the static payoff, player 1's problem is\n",
    "\\begin{align}\n",
    "    \\max_{e_1^t} \\pi_1^t = p^t V - e_1^t\n",
    "\\end{align}\n",
    "which implies the first-order condition\n",
    "\\begin{align}\n",
    "    \\frac{\\partial p^t}{\\partial e_1^t} V - 1 = 0 \\qquad \\Leftrightarrow \\qquad \\frac{\\partial p^t}{\\partial e_1^t} = \\frac{1}{V}\n",
    "\\end{align}"
   ]
  },
  {
   "cell_type": "markdown",
   "metadata": {},
   "source": [
    "Similarly, to maximize the static payoff, player 2's problem is\n",
    "\\begin{align}\n",
    "    \\max_{e_2^t} \\pi_2^t = (1-p^t) V - e_2^t\n",
    "\\end{align}\n",
    "which implies the first-order condition\n",
    "\\begin{align}\n",
    "    -\\frac{\\partial p^t}{\\partial e_2^t} V - 1 = 0 \\qquad \\Leftrightarrow \\qquad \\frac{\\partial p^t}{\\partial e_2^t} = - \\frac{1}{V}\n",
    "\\end{align}"
   ]
  },
  {
   "cell_type": "markdown",
   "metadata": {},
   "source": [
    "Note the similar structure between the two FOCs above. They implies that, in a NE, it must be that\n",
    "\\begin{align}\n",
    "    \\frac{\\partial p^t}{\\partial e_1^t} = - \\frac{\\partial p^t}{\\partial e_2^t} \\tag{1}\n",
    "\\end{align}"
   ]
  },
  {
   "cell_type": "markdown",
   "metadata": {},
   "source": [
    "Now, we can calculate the derivative \n",
    "\\begin{align}\n",
    "    \\frac{\\partial p^t}{\\partial e_1^t} &= \\frac{\\partial }{\\partial e_1^t} \\left[ \\frac{\\alpha^t (e_1^t)^{\\gamma}}{\\alpha^t (e_1^t)^{\\gamma} + (1-\\alpha^t) (e_2^t)^{\\gamma}} \\right] \\\\\n",
    "        &= \\frac{\\gamma \\alpha^t (e_1^t)^{\\gamma-1} \\big( \\alpha^t (e_1^t)^{\\gamma} + (1-\\alpha^t) (e_2^t)^{\\gamma} \\big) - \\alpha^t (e_1^t)^{\\gamma} \\big( \\gamma \\alpha^t (e_1^t)^{\\gamma-1} \\big)}{ \\Big( \\alpha^t (e_1^t)^{\\gamma} + (1-\\alpha^t) (e_2^t)^{\\gamma} \\Big)^2 } \\\\\n",
    "        &= \\frac{\\gamma \\alpha^t (e_1^t)^{\\gamma-1} \\big( (1-\\alpha^t) (e_2^t)^{\\gamma} \\big) }{ \\Big( \\alpha^t (e_1^t)^{\\gamma} + (1-\\alpha^t) (e_2^t)^{\\gamma} \\Big)^2 }\n",
    "\\end{align}"
   ]
  },
  {
   "cell_type": "markdown",
   "metadata": {},
   "source": [
    "Similarly, we can calculate the derivative \n",
    "\\begin{align}\n",
    "    \\frac{\\partial p^t}{\\partial e_2^t} &= \\frac{\\partial }{\\partial e_1^t} \\left[ \\frac{\\alpha^t (e_1^t)^{\\gamma}}{\\alpha^t (e_1^t)^{\\gamma} + (1-\\alpha^t) (e_2^t)^{\\gamma}} \\right] \\\\\n",
    "        &= \\frac{ - \\alpha^t (e_1^t)^{\\gamma} \\big( \\gamma (1-\\alpha^t) (e_2^t)^{\\gamma-1} \\big)}{ \\Big( \\alpha^t (e_1^t)^{\\gamma} + (1-\\alpha^t) (e_2^t)^{\\gamma} \\Big)^2 } \n",
    "\\end{align}"
   ]
  },
  {
   "cell_type": "markdown",
   "metadata": {},
   "source": [
    "Using (1), we have\n",
    "\\begin{align}\n",
    "    && \\frac{\\partial p^t}{\\partial e_1^t} &= - \\frac{\\partial p^t}{\\partial e_1^t} \\\\\n",
    "        \\Leftrightarrow \\qquad && \\frac{\\gamma \\alpha^t (e_1^t)^{\\gamma-1} \\big( (1-\\alpha^t) (e_2^t)^{\\gamma} \\big) }{ \\Big( \\alpha^t (e_1^t)^{\\gamma} + (1-\\alpha^t) (e_2^t)^{\\gamma} \\Big)^2 } &= - \\frac{ - \\alpha^t (e_1^t)^{\\gamma} \\big( \\gamma (1-\\alpha^t) (e_2^t)^{\\gamma-1} \\big)}{ \\Big( \\alpha^t (e_1^t)^{\\gamma} + (1-\\alpha^t) (e_2^t)^{\\gamma} \\Big)^2 }  \\\\\n",
    "        \\Leftrightarrow \\qquad && \\gamma \\alpha^t (e_1^t)^{\\gamma-1} \\big( (1-\\alpha^t) (e_2^t)^{\\gamma} \\big)  &=  \\alpha^t (e_1^t)^{\\gamma} \\big( \\gamma (1-\\alpha^t) (e_2^t)^{\\gamma-1} \\big)  \\\\\n",
    "        \\Leftrightarrow \\qquad && (e_1^t)^{-1} &=  (e_2^t)^{-1} \\\\\n",
    "        \\Leftrightarrow \\qquad && e_1^t &=  e_2^t \\tag{2}\n",
    "\\end{align}\n",
    "\n",
    "This relationship implies that, in a static equilibrium, players must play symmetric strategies by putting equal efforts, regardless of $\\alpha^t, \\gamma, V$."
   ]
  },
  {
   "cell_type": "markdown",
   "metadata": {},
   "source": [
    "This result, (2), dramatically simplifies the partial derivatives $\\frac{\\partial p^t}{\\partial e_1^t}$ and $\\frac{\\partial p^t}{\\partial e_2^t}$. \n",
    "\n",
    "Substituting $e_1^t = e_2^t$ into $\\frac{\\partial p^t}{\\partial e_1^t}$, we have\n",
    "\n",
    "\\begin{align}\n",
    "    \\frac{\\partial p^t}{\\partial e_1^t} &= \\frac{\\gamma \\alpha^t (e_1^t)^{\\gamma-1} \\big( (1-\\alpha^t) (e_2^t)^{\\gamma} \\big) }{ \\Big( \\alpha^t (e_1^t)^{\\gamma} + (1-\\alpha^t) (e_2^t)^{\\gamma} \\Big)^2 }  \\\\\n",
    "    &= \\frac{\\gamma \\alpha^t (e_1^t)^{\\gamma-1} \\big( (1-\\alpha^t) (e_1^t)^{\\gamma} \\big) }{ \\Big( \\alpha^t (e_1^t)^{\\gamma} + (1-\\alpha^t) (e_1^t)^{\\gamma} \\Big)^2 } \\\\\n",
    "    &= \\frac{\\gamma \\alpha^t (1-\\alpha^t) (e_1^t)^{\\gamma-1} (e_1^t)^{\\gamma} }{ \\Big( (e_1^t)^{\\gamma} \\Big)^2 } \\\\\n",
    "    &= \\frac{\\gamma \\alpha^t (1-\\alpha^t) }{ e_1^t } \n",
    "\\end{align}"
   ]
  },
  {
   "cell_type": "markdown",
   "metadata": {},
   "source": [
    "### Equilibrium strategy"
   ]
  },
  {
   "cell_type": "markdown",
   "metadata": {},
   "source": [
    "Plugging this expression of derivative into FOC w.r.t. $e_1$, we have\n",
    "\\begin{align}\n",
    "    && \\frac{\\partial p^t}{\\partial e_1^t} &= \\frac{1}{V} \\\\\n",
    "    \\Rightarrow \\qquad && \\frac{\\gamma \\alpha^t (1-\\alpha^t) }{ e_1^t }  &= \\frac{1}{V} \\\\\n",
    "    \\Rightarrow \\qquad && e_1^{t*}  &= \\gamma \\alpha^t (1-\\alpha^t) V,\n",
    "\\end{align}\n",
    "which is the equilibrium strategy of player 1."
   ]
  },
  {
   "cell_type": "markdown",
   "metadata": {},
   "source": [
    "Thus, by symmetric effort from (2), we have \n",
    "\\begin{align} \n",
    "e_2^{t*} = e_1^{t*}  = \\gamma \\alpha^t (1-\\alpha^t) V, \n",
    "\\end{align} \n",
    "which is the static NE of the contest game."
   ]
  },
  {
   "cell_type": "markdown",
   "metadata": {},
   "source": [
    "### Equilibrium outcome: winning probability"
   ]
  },
  {
   "cell_type": "markdown",
   "metadata": {},
   "source": [
    "In the equilibrium, the winning probability for player 1 is\n",
    "\\begin{align}\n",
    "p^{t*} &= \\frac{\\alpha^t (e_1^t)^{\\gamma}}{\\alpha^t (e_1^t)^{\\gamma} + (1-\\alpha^t) (e_2^t)^{\\gamma}} \\\\\n",
    "    &= \\frac{\\alpha^t (e_1^t)^{\\gamma}}{\\alpha^t (e_1^t)^{\\gamma} + (1-\\alpha^t) (e_1^t)^{\\gamma}} \\\\\n",
    "    &= \\frac{\\alpha^t (e_1^t)^{\\gamma}}{ (e_1^t)^{\\gamma} } \\\\\n",
    "    &= \\alpha^t \n",
    "\\end{align}\n",
    "\n",
    "Similarly, player 2's winning probability in the equilibrium is $1-\\alpha^t$."
   ]
  },
  {
   "cell_type": "markdown",
   "metadata": {},
   "source": [
    "### Equilibrium outcome: payoffs"
   ]
  },
  {
   "cell_type": "markdown",
   "metadata": {},
   "source": [
    "In the equilibrium, the player 1's payoff is\n",
    "\\begin{align}\n",
    "\\pi_1^{t*} &= p^{t*} V - e_1^{t*} \\\\\n",
    "    &= \\alpha^t V - \\gamma \\alpha^t (1-\\alpha^t) V \\\\\n",
    "    &= \\alpha^t V \\big( 1-\\gamma (1-\\alpha^t) \\big)\n",
    "\\end{align}"
   ]
  },
  {
   "cell_type": "markdown",
   "metadata": {},
   "source": [
    "Player 2's equilibrim payoff is\n",
    "\\begin{align}\n",
    "\\pi_2^{t*} &= (1-p^{t*}) V - e_2^{t*} \\\\\n",
    "    &= (1-\\alpha^t) V - \\gamma \\alpha^t (1-\\alpha^t) V \\\\\n",
    "    &= (1-\\alpha^t) V \\big( 1- \\gamma \\alpha^t \\big)\n",
    "\\end{align}"
   ]
  },
  {
   "cell_type": "markdown",
   "metadata": {},
   "source": [
    "## Comparative statics"
   ]
  },
  {
   "cell_type": "markdown",
   "metadata": {},
   "source": [
    "### Comparative statics: equilibrium efforts"
   ]
  },
  {
   "cell_type": "markdown",
   "metadata": {},
   "source": [
    "The equilibrium effort of player 1 \n",
    "\\begin{align}\n",
    "    e_1^{t*}  &= \\gamma \\alpha^t (1-\\alpha^t) V\n",
    "\\end{align}\n",
    "\n",
    "Thus \n",
    "\\begin{align}\n",
    "    \\frac{\\partial e_1^{t*}}{\\partial \\gamma} &= \\alpha^t (1-\\alpha^t) V > 0 \\\\\n",
    "    \\frac{\\partial e_1^{t*}}{\\partial V} &= \\gamma \\alpha^t (1-\\alpha^t) > 0 \\\\\n",
    "    \\frac{\\partial e_1^{t*}}{\\partial \\alpha} &= \\gamma (1-\\alpha^t) V - \\gamma \\alpha^t V  \\\\\n",
    "        &= \\gamma (1-2\\alpha^t) V \\\\\n",
    "        & \\geq 0 \\text{ if and only if } \\alpha^t \\leq \\frac{1}{2}\n",
    "\\end{align}\n",
    "\n",
    "$e_1^{t*}$ is\n",
    "* increasing in $\\gamma$\n",
    "* increasing in $V$ \n",
    "* increasing in $\\alpha$ if $\\alpha \\leq \\frac{1}{2}$; and decreasing in $\\alpha$ if $\\alpha \\geq \\frac{1}{2}$\n",
    "\n",
    "The effects on $e_2^{t*}$ is similar."
   ]
  },
  {
   "cell_type": "markdown",
   "metadata": {},
   "source": [
    "Interpretation: to induce higher effort among contestants, one can\n",
    "* increasing importance of effort in winning ($\\gamma$)\n",
    "* increasing award of winning ($V$)\n",
    "* increase fairness ($\\alpha = \\frac{1}{2}$)"
   ]
  },
  {
   "cell_type": "markdown",
   "metadata": {},
   "source": [
    "### Comparative statics: equilibrium payoffs"
   ]
  },
  {
   "cell_type": "markdown",
   "metadata": {},
   "source": [
    "The equilibrium payoff of player 1 \n",
    "\\begin{align}\n",
    "    \\pi_1^{t*}  &= \\alpha^t V \\big( 1-\\gamma (1-\\alpha^t) \\big)\n",
    "\\end{align}\n",
    "\n",
    "Thus \n",
    "\\begin{align}\n",
    "    \\frac{\\partial \\pi_1^{t*}}{\\partial \\gamma} &= - \\alpha^t V (1-\\alpha^t)  < 0 \\\\\n",
    "    \\frac{\\partial \\pi_1^{t*}}{\\partial V} &= \\alpha^t \\big( 1-\\gamma (1-\\alpha^t) \\big) > 0 \\\\\n",
    "    \\frac{\\partial \\pi_1^{t*}}{\\partial \\alpha} &= V \\big( 1-\\gamma (1-\\alpha^t) \\big) + \\alpha^t V \\gamma  \\\\\n",
    "        &= V - \\gamma V + 2 \\alpha^t \\gamma V  \\\\\n",
    "        &= - V (1 - 2 \\alpha^t) \\gamma V  \\\\\n",
    "        & \\leq 0 \\text{ if and only if } \\alpha^t \\leq \\frac{1}{2}\n",
    "\\end{align}\n",
    "\n",
    "$\\pi_1^{t*}$ is\n",
    "* decreasing in $\\gamma$\n",
    "* increasing in $V$ \n",
    "* decreasing in $\\alpha$ if $\\alpha \\leq \\frac{1}{2}$; and increasing in $\\alpha$ if $\\alpha \\geq \\frac{1}{2}$\n",
    "\n",
    "The effects on $\\pi_2^{t*}$ is similar."
   ]
  },
  {
   "cell_type": "markdown",
   "metadata": {},
   "source": [
    "Interpretation: to improve equilibrium payoff among contestants, one can\n",
    "* decreasing importance of effort in winning ($\\gamma$)\n",
    "* increasing award of winning ($V$)\n",
    "* decrease fairness ($\\alpha \\rightarrow 0$ or $\\alpha \\rightarrow 1$)"
   ]
  },
  {
   "cell_type": "markdown",
   "metadata": {},
   "source": [
    "## Solving static NE using sympy"
   ]
  },
  {
   "cell_type": "code",
   "execution_count": 1,
   "metadata": {},
   "outputs": [],
   "source": [
    "# import packages\n",
    "from sympy import *\n",
    "# set sympy output to print pretty math expressions\n",
    "init_printing()"
   ]
  },
  {
   "cell_type": "code",
   "execution_count": 2,
   "metadata": {},
   "outputs": [],
   "source": [
    "# define variables (we use slightly different notation from the paper for the efforts)\n",
    "V, e1t1, e2t1, e1t2, e2t2, gamma, delta = symbols('V, e_1^{t1}, e_2^{t1}, e_1^{t2}, e_2^{t2}, gamma, delta', positive=True)"
   ]
  },
  {
   "cell_type": "code",
   "execution_count": 3,
   "metadata": {},
   "outputs": [
    {
     "data": {
      "image/png": "[encoded data removed]",
      "text/latex": [
       "$\\displaystyle e_1^{t1}$"
      ],
      "text/plain": [
       "e_1__{t1}"
      ]
     },
     "execution_count": 3,
     "metadata": {},
     "output_type": "execute_result"
    }
   ],
   "source": [
    "# check defined notation\n",
    "e1t1"
   ]
  },
  {
   "cell_type": "code",
   "execution_count": 4,
   "metadata": {},
   "outputs": [
    {
     "data": {
      "image/png": "[encoded data removed]",
      "text/latex": [
       "$\\displaystyle \\frac{\\alpha e_{1}^{\\gamma}}{\\alpha e_{1}^{\\gamma} + e_{2}^{\\gamma} \\left(1 - \\alpha\\right)}$"
      ],
      "text/plain": [
       "           γ       \n",
       "       α⋅e₁        \n",
       "───────────────────\n",
       "    γ     γ        \n",
       "α⋅e₁  + e₂ ⋅(1 - α)"
      ]
     },
     "execution_count": 4,
     "metadata": {},
     "output_type": "execute_result"
    }
   ],
   "source": [
    "# define time-less symbols for effort and alpha\n",
    "e1, e2, alpha = symbols('e_1, e_2, alpha')\n",
    "# define a general contest success function (CSF) for any t\n",
    "p = (alpha * e1**gamma ) / (alpha * e1**gamma + (1-alpha)*e2**gamma)\n",
    "# check the defined CSF\n",
    "p"
   ]
  },
  {
   "cell_type": "code",
   "execution_count": 5,
   "metadata": {
    "scrolled": true
   },
   "outputs": [
    {
     "data": {
      "image/png": "[encoded data removed]",
      "text/latex": [
       "$\\displaystyle \\frac{e_{2}^{\\gamma} \\left(1 - \\alpha\\right)}{\\alpha e_{1}^{\\gamma} - e_{2}^{\\gamma} \\left(\\alpha - 1\\right)}$"
      ],
      "text/plain": [
       "      γ            \n",
       "    e₂ ⋅(1 - α)    \n",
       "───────────────────\n",
       "    γ     γ        \n",
       "α⋅e₁  - e₂ ⋅(α - 1)"
      ]
     },
     "execution_count": 5,
     "metadata": {},
     "output_type": "execute_result"
    }
   ],
   "source": [
    "simplify(1-p)"
   ]
  },
  {
   "cell_type": "code",
   "execution_count": 6,
   "metadata": {},
   "outputs": [
    {
     "data": {
      "image/png": "[encoded data removed]",
      "text/latex": [
       "$\\displaystyle - \\frac{\\alpha^{2} e_{1}^{2 \\gamma} \\gamma}{e_{1} \\left(\\alpha e_{1}^{\\gamma} + e_{2}^{\\gamma} \\left(1 - \\alpha\\right)\\right)^{2}} + \\frac{\\alpha e_{1}^{\\gamma} \\gamma}{e_{1} \\left(\\alpha e_{1}^{\\gamma} + e_{2}^{\\gamma} \\left(1 - \\alpha\\right)\\right)}$"
      ],
      "text/plain": [
       "           2   2⋅γ                        γ           \n",
       "          α ⋅e₁   ⋅γ                  α⋅e₁ ⋅γ         \n",
       "- ───────────────────────── + ────────────────────────\n",
       "                          2      ⎛    γ     γ        ⎞\n",
       "     ⎛    γ     γ        ⎞    e₁⋅⎝α⋅e₁  + e₂ ⋅(1 - α)⎠\n",
       "  e₁⋅⎝α⋅e₁  + e₂ ⋅(1 - α)⎠                            "
      ]
     },
     "execution_count": 6,
     "metadata": {},
     "output_type": "execute_result"
    }
   ],
   "source": [
    "p.diff(e1)"
   ]
  },
  {
   "cell_type": "code",
   "execution_count": 7,
   "metadata": {
    "scrolled": true
   },
   "outputs": [
    {
     "data": {
      "image/png": "[encoded data removed]",
      "text/latex": [
       "$\\displaystyle \\frac{V \\alpha e_{1}^{\\gamma} - e_{1} \\left(\\alpha e_{1}^{\\gamma} + e_{2}^{\\gamma} \\left(1 - \\alpha\\right)\\right)}{\\alpha e_{1}^{\\gamma} - e_{2}^{\\gamma} \\left(\\alpha - 1\\right)}$"
      ],
      "text/plain": [
       "      γ      ⎛    γ     γ        ⎞\n",
       "V⋅α⋅e₁  - e₁⋅⎝α⋅e₁  + e₂ ⋅(1 - α)⎠\n",
       "──────────────────────────────────\n",
       "           γ     γ                \n",
       "       α⋅e₁  - e₂ ⋅(α - 1)        "
      ]
     },
     "execution_count": 7,
     "metadata": {},
     "output_type": "execute_result"
    }
   ],
   "source": [
    "# define notations for payoffs\n",
    "pi1t1, pi2t1, pi1t2, pi2t2 = symbols('\\pi_1^{t1}, \\pi_2^{t1}, \\pi_1^{t2}, \\pi_2^{t2}', positive=True)\n",
    "# define payoffs\n",
    "pi1 = p*V - e1\n",
    "pi2 = (1-p)*V - e2\n",
    "# check pi1\n",
    "pi1.simplify()"
   ]
  },
  {
   "cell_type": "code",
   "execution_count": 8,
   "metadata": {},
   "outputs": [
    {
     "data": {
      "image/png": "[encoded data removed]",
      "text/latex": [
       "$\\displaystyle - \\frac{V e_{2}^{\\gamma} \\left(\\alpha - 1\\right) + e_{2} \\left(\\alpha e_{1}^{\\gamma} - e_{2}^{\\gamma} \\left(\\alpha - 1\\right)\\right)}{\\alpha e_{1}^{\\gamma} - e_{2}^{\\gamma} \\left(\\alpha - 1\\right)}$"
      ],
      "text/plain": [
       " ⎛    γ              ⎛    γ     γ        ⎞⎞ \n",
       "-⎝V⋅e₂ ⋅(α - 1) + e₂⋅⎝α⋅e₁  - e₂ ⋅(α - 1)⎠⎠ \n",
       "────────────────────────────────────────────\n",
       "                γ     γ                     \n",
       "            α⋅e₁  - e₂ ⋅(α - 1)             "
      ]
     },
     "execution_count": 8,
     "metadata": {},
     "output_type": "execute_result"
    }
   ],
   "source": [
    "# check pi2\n",
    "pi2.simplify()"
   ]
  },
  {
   "cell_type": "code",
   "execution_count": 9,
   "metadata": {
    "scrolled": true
   },
   "outputs": [
    {
     "data": {
      "image/png": "[encoded data removed]",
      "text/latex": [
       "$\\displaystyle - \\frac{\\alpha e_{1}^{\\gamma} \\gamma \\left(V \\alpha e_{1}^{\\gamma} - e_{1} \\left(\\alpha e_{1}^{\\gamma} + e_{2}^{\\gamma} \\left(1 - \\alpha\\right)\\right)\\right)}{e_{1} \\left(\\alpha e_{1}^{\\gamma} - e_{2}^{\\gamma} \\left(\\alpha - 1\\right)\\right)^{2}} + \\frac{\\frac{V \\alpha e_{1}^{\\gamma} \\gamma}{e_{1}} - \\alpha e_{1}^{\\gamma} \\gamma - \\alpha e_{1}^{\\gamma} - e_{2}^{\\gamma} \\left(1 - \\alpha\\right)}{\\alpha e_{1}^{\\gamma} - e_{2}^{\\gamma} \\left(\\alpha - 1\\right)}$"
      ],
      "text/plain": [
       "                                                       γ                      \n",
       "                                                 V⋅α⋅e₁ ⋅γ       γ         γ  \n",
       "      γ   ⎛      γ      ⎛    γ     γ        ⎞⎞   ───────── - α⋅e₁ ⋅γ - α⋅e₁  -\n",
       "  α⋅e₁ ⋅γ⋅⎝V⋅α⋅e₁  - e₁⋅⎝α⋅e₁  + e₂ ⋅(1 - α)⎠⎠       e₁                       \n",
       "- ──────────────────────────────────────────── + ─────────────────────────────\n",
       "                                   2                            γ     γ       \n",
       "              ⎛    γ     γ        ⎞                         α⋅e₁  - e₂ ⋅(α - 1\n",
       "           e₁⋅⎝α⋅e₁  - e₂ ⋅(α - 1)⎠                                           \n",
       "\n",
       "            \n",
       "   γ        \n",
       " e₂ ⋅(1 - α)\n",
       "            \n",
       "────────────\n",
       "            \n",
       ")           \n",
       "            "
      ]
     },
     "execution_count": 9,
     "metadata": {},
     "output_type": "execute_result"
    }
   ],
   "source": [
    "simplify(pi1).diff(e1)"
   ]
  },
  {
   "cell_type": "code",
   "execution_count": 10,
   "metadata": {},
   "outputs": [
    {
     "data": {
      "image/png": "[encoded data removed]",
      "text/latex": [
       "$\\displaystyle \\frac{V \\alpha e_{1}^{\\gamma} e_{2}^{\\gamma} \\gamma \\left(1 - \\alpha\\right)}{e_{2} \\left(\\alpha e_{1}^{\\gamma} + e_{2}^{\\gamma} \\left(1 - \\alpha\\right)\\right)^{2}} - 1$"
      ],
      "text/plain": [
       "        γ   γ                \n",
       "  V⋅α⋅e₁ ⋅e₂ ⋅γ⋅(1 - α)      \n",
       "───────────────────────── - 1\n",
       "                        2    \n",
       "   ⎛    γ     γ        ⎞     \n",
       "e₂⋅⎝α⋅e₁  + e₂ ⋅(1 - α)⎠     "
      ]
     },
     "execution_count": 10,
     "metadata": {},
     "output_type": "execute_result"
    }
   ],
   "source": [
    "pi2.diff(e2)"
   ]
  },
  {
   "cell_type": "code",
   "execution_count": null,
   "metadata": {
    "scrolled": true
   },
   "outputs": [],
   "source": [
    "# solve for NE in static contest (brute force)\n",
    "# Warning: sympy takes a long time calculating this solution\n",
    "# (also, sympy won't be able to simplify the solution)\n",
    "oneshot_sol = solve([simplify(pi1).diff(e1), simplify(pi2).diff(e2)], e1, e2)"
   ]
  },
  {
   "cell_type": "code",
   "execution_count": 86,
   "metadata": {
    "scrolled": false
   },
   "outputs": [
    {
     "data": {
      "image/png": "[encoded data removed]",
      "text/latex": [
       "$\\displaystyle e^{\\frac{\\log{\\left(\\left(- \\frac{V \\alpha^{- \\frac{1}{\\gamma}} \\gamma \\left(\\alpha - 1\\right) \\left(\\frac{1}{\\alpha - 1}\\right)^{- \\frac{1}{\\gamma}} \\left(e^{\\frac{\\log{\\left(\\frac{1}{\\alpha - 1} \\right)}}{\\gamma}}\\right)^{\\gamma}}{\\left(- \\alpha \\left(e^{\\frac{\\log{\\left(\\frac{1}{\\alpha - 1} \\right)}}{\\gamma}}\\right)^{\\gamma} + \\left(e^{\\frac{\\log{\\left(\\frac{1}{\\alpha - 1} \\right)}}{\\gamma}}\\right)^{\\gamma} + 1\\right)^{2}}\\right)^{\\gamma} \\right)}}{\\gamma}}$"
      ],
      "text/plain": [
       "    ⎛                                              γ⎞\n",
       "    ⎜⎛                                          γ ⎞ ⎟\n",
       "    ⎜⎜                             ⎛    ⎛  1  ⎞⎞  ⎟ ⎟\n",
       "    ⎜⎜                         -1  ⎜ log⎜─────⎟⎟  ⎟ ⎟\n",
       "    ⎜⎜    -1                   ─── ⎜    ⎝α - 1⎠⎟  ⎟ ⎟\n",
       "    ⎜⎜    ───                   γ  ⎜ ──────────⎟  ⎟ ⎟\n",
       "    ⎜⎜     γ            ⎛  1  ⎞    ⎜     γ     ⎟  ⎟ ⎟\n",
       "    ⎜⎜-V⋅α   ⋅γ⋅(α - 1)⋅⎜─────⎟   ⋅⎝ℯ          ⎠  ⎟ ⎟\n",
       "    ⎜⎜                  ⎝α - 1⎠                   ⎟ ⎟\n",
       " log⎜⎜────────────────────────────────────────────⎟ ⎟\n",
       "    ⎜⎜                                          2 ⎟ ⎟\n",
       "    ⎜⎜ ⎛                 γ                γ    ⎞  ⎟ ⎟\n",
       "    ⎜⎜ ⎜    ⎛    ⎛  1  ⎞⎞    ⎛    ⎛  1  ⎞⎞     ⎟  ⎟ ⎟\n",
       "    ⎜⎜ ⎜    ⎜ log⎜─────⎟⎟    ⎜ log⎜─────⎟⎟     ⎟  ⎟ ⎟\n",
       "    ⎜⎜ ⎜    ⎜    ⎝α - 1⎠⎟    ⎜    ⎝α - 1⎠⎟     ⎟  ⎟ ⎟\n",
       "    ⎜⎜ ⎜    ⎜ ──────────⎟    ⎜ ──────────⎟     ⎟  ⎟ ⎟\n",
       "    ⎜⎜ ⎜    ⎜     γ     ⎟    ⎜     γ     ⎟     ⎟  ⎟ ⎟\n",
       "    ⎝⎝ ⎝- α⋅⎝ℯ          ⎠  + ⎝ℯ          ⎠  + 1⎠  ⎠ ⎠\n",
       " ────────────────────────────────────────────────────\n",
       "                          γ                          \n",
       "ℯ                                                    "
      ]
     },
     "execution_count": 86,
     "metadata": {},
     "output_type": "execute_result"
    }
   ],
   "source": [
    "oneshot_sol[0][0].simplify()"
   ]
  },
  {
   "cell_type": "code",
   "execution_count": 98,
   "metadata": {},
   "outputs": [
    {
     "data": {
      "image/png": "[encoded data removed]",
      "text/latex": [
       "$\\displaystyle \\left[ \\left( V \\alpha \\gamma \\left(1 - \\alpha\\right), \\  V \\alpha \\gamma \\left(1 - \\alpha\\right)\\right)\\right]$"
      ],
      "text/plain": [
       "[(V⋅α⋅γ⋅(1 - α), V⋅α⋅γ⋅(1 - α))]"
      ]
     },
     "execution_count": 98,
     "metadata": {},
     "output_type": "execute_result"
    }
   ],
   "source": [
    "# solve for NE in static contest \n",
    "# (while imposing the symmetric effort result)\n",
    "# (based on derived equation (2) above)\n",
    "oneshot_sol = solve([simplify(pi1).diff(e1), Eq(e1,e2)], e1, e2)\n",
    "oneshot_sol"
   ]
  },
  {
   "cell_type": "code",
   "execution_count": 118,
   "metadata": {},
   "outputs": [
    {
     "data": {
      "image/png": "[encoded data removed]",
      "text/latex": [
       "$\\displaystyle V \\alpha \\gamma \\left(1 - \\alpha\\right)$"
      ],
      "text/plain": [
       "V⋅α⋅γ⋅(1 - α)"
      ]
     },
     "execution_count": 118,
     "metadata": {},
     "output_type": "execute_result"
    }
   ],
   "source": [
    "# retrieve solutions from the list\n",
    "oneshot_e1 = oneshot_sol[0][0]\n",
    "oneshot_e2 = oneshot_sol[0][1]\n",
    "# check solution for e1\n",
    "oneshot_e1"
   ]
  },
  {
   "cell_type": "code",
   "execution_count": 113,
   "metadata": {},
   "outputs": [
    {
     "data": {
      "text/plain": [
       "'V*alpha*gamma*(1 - alpha)'"
      ]
     },
     "execution_count": 113,
     "metadata": {},
     "output_type": "execute_result"
    }
   ],
   "source": [
    "# return solution in input form\n",
    "ccode(oneshot_e1)"
   ]
  },
  {
   "cell_type": "markdown",
   "metadata": {},
   "source": [
    "## Comparative statics using sympy"
   ]
  },
  {
   "cell_type": "markdown",
   "metadata": {},
   "source": [
    "### Comparative statics: equilibrium efforts"
   ]
  },
  {
   "cell_type": "code",
   "execution_count": 119,
   "metadata": {},
   "outputs": [
    {
     "data": {
      "image/png": "[encoded data removed]",
      "text/latex": [
       "$\\displaystyle V \\alpha \\left(1 - \\alpha\\right)$"
      ],
      "text/plain": [
       "V⋅α⋅(1 - α)"
      ]
     },
     "execution_count": 119,
     "metadata": {},
     "output_type": "execute_result"
    }
   ],
   "source": [
    "oneshot_e1.diff(gamma)"
   ]
  },
  {
   "cell_type": "code",
   "execution_count": 120,
   "metadata": {},
   "outputs": [
    {
     "data": {
      "image/png": "[encoded data removed]",
      "text/latex": [
       "$\\displaystyle \\alpha \\gamma \\left(1 - \\alpha\\right)$"
      ],
      "text/plain": [
       "α⋅γ⋅(1 - α)"
      ]
     },
     "execution_count": 120,
     "metadata": {},
     "output_type": "execute_result"
    }
   ],
   "source": [
    "oneshot_e1.diff(V)"
   ]
  },
  {
   "cell_type": "code",
   "execution_count": 121,
   "metadata": {},
   "outputs": [
    {
     "data": {
      "image/png": "[encoded data removed]",
      "text/latex": [
       "$\\displaystyle V \\gamma \\left(1 - 2 \\alpha\\right)$"
      ],
      "text/plain": [
       "V⋅γ⋅(1 - 2⋅α)"
      ]
     },
     "execution_count": 121,
     "metadata": {},
     "output_type": "execute_result"
    }
   ],
   "source": [
    "oneshot_e1.diff(alpha).simplify()"
   ]
  },
  {
   "cell_type": "markdown",
   "metadata": {},
   "source": [
    "### Appendix: algebra solving for $e_2^{t*}$"
   ]
  },
  {
   "cell_type": "markdown",
   "metadata": {},
   "source": [
    "As additional verification, we can do a similar calculation for $e_2^t$.\n",
    "\n",
    "Substituting $e_1^t = e_2^t$ into $\\frac{\\partial p^t}{\\partial e_2^t}$, we have\n",
    "\n",
    "\\begin{align}\n",
    "    \\frac{\\partial p^t}{\\partial e_2^t} &= \\frac{ - \\alpha^t (e_2^t)^{\\gamma} \\big( \\gamma (1-\\alpha^t) (e_2^t)^{\\gamma-1} \\big)}{ \\Big( \\alpha^t (e_2^t)^{\\gamma} + (1-\\alpha^t) (e_2^t)^{\\gamma} \\Big)^2 } \\\\\n",
    "    &= \\frac{ - \\gamma \\alpha^t (1-\\alpha^t) (e_2^t)^{\\gamma} (e_2^t)^{\\gamma-1} }{ \\Big( (e_2^t)^{\\gamma} \\Big)^2 } \\\\\n",
    "    &= - \\gamma \\alpha^t (1-\\alpha^t) (e_2^t)^{-1}\n",
    "\\end{align}"
   ]
  },
  {
   "cell_type": "markdown",
   "metadata": {},
   "source": [
    "Plugging this expression of derivative into FOC w.r.t. $e_2$, we have\n",
    "\n",
    "\\begin{align}\n",
    "    && \\frac{\\partial p^t}{\\partial e_2^t} &= -\\frac{1}{V} \\\\\n",
    "    \\Rightarrow \\qquad && - \\frac{\\gamma \\alpha^t (1-\\alpha^t) }{ e_2^t }  &= -\\frac{1}{V} \\\\\n",
    "    \\Rightarrow \\qquad && e_2^{t*}  &= \\gamma \\alpha^t (1-\\alpha^t) V,\n",
    "\\end{align}\n",
    "which is the equilibrium strategy of player 1."
   ]
  }
 ],
 "metadata": {
  "kernelspec": {
   "display_name": "Python 3",
   "language": "python",
   "name": "python3"
  },
  "language_info": {
   "codemirror_mode": {
    "name": "ipython",
    "version": 3
   },
   "file_extension": ".py",
   "mimetype": "text/x-python",
   "name": "python",
   "nbconvert_exporter": "python",
   "pygments_lexer": "ipython3",
   "version": "3.7.4"
  }
 },
 "nbformat": 4,
 "nbformat_minor": 4
}
